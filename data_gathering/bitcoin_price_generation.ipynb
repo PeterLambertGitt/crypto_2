{
 "cells": [
  {
   "cell_type": "code",
   "execution_count": 38,
   "id": "1932e721",
   "metadata": {
    "scrolled": true
   },
   "outputs": [],
   "source": [
    "import pandas as pd\n",
    "import yfinance as yf\n",
    "from datetime import datetime"
   ]
  },
  {
   "cell_type": "markdown",
   "id": "541b32a7",
   "metadata": {},
   "source": [
    "## Step 1 - Create the function to load histroic data"
   ]
  },
  {
   "cell_type": "code",
   "execution_count": 3,
   "id": "64fedfae",
   "metadata": {},
   "outputs": [],
   "source": [
    "def load_historic_data(symbol, start_date_str, end_date_str, period, interval):\n",
    "    try:\n",
    "        df = yf.download(symbol, start=start_date_str, end=end_date_str, period=period, interval=interval)\n",
    "        #  Add symbol\n",
    "    \n",
    "        df[\"Symbol\"] = symbol\n",
    "        df['price_change'] = df['Close'].pct_change()\n",
    "        return df\n",
    "    except:\n",
    "        print(f'Error loading stock data for + {symbol}')\n",
    "        return None"
   ]
  },
  {
   "cell_type": "markdown",
   "id": "08b21a46",
   "metadata": {},
   "source": [
    "## Step 2 - Define the timeframe"
   ]
  },
  {
   "cell_type": "markdown",
   "id": "c411921b",
   "metadata": {},
   "source": [
    "### Step 2a - Input the period and interval"
   ]
  },
  {
   "cell_type": "code",
   "execution_count": 4,
   "id": "ab6b5b1e",
   "metadata": {},
   "outputs": [],
   "source": [
    "# valid periods: 1d,5d,1mo,3mo,6mo,1y,2y,5y,10y,ytd,max\n",
    "period = '1d'\n",
    "\n",
    "# valid intervals: 1m,2m,5m,15m,30m,60m,90m,1h,1d,5d,1wk,1mo,3mo\n",
    "interval = '1d'"
   ]
  },
  {
   "cell_type": "markdown",
   "id": "6edcd3b8",
   "metadata": {},
   "source": [
    "### Step 2b (option A) - Start from today, and look for the period of historical data"
   ]
  },
  {
   "cell_type": "code",
   "execution_count": 5,
   "id": "84b0ea31",
   "metadata": {},
   "outputs": [],
   "source": [
    "today = datetime.date.today() #today value\n",
    "end_date_str = today.strftime(\"%Y-%m-%d\")\n",
    "prepost = True\n",
    "\n",
    "#download the date in 3 years\n",
    "days = datetime.timedelta(1095)\n",
    "start_date = today - days\n",
    "start_date_str = datetime.datetime.strftime(start_date, \"%Y-%m-%d\")"
   ]
  },
  {
   "cell_type": "code",
   "execution_count": 18,
   "id": "2545302a",
   "metadata": {},
   "outputs": [
    {
     "data": {
      "text/plain": [
       "'2023-03-13'"
      ]
     },
     "execution_count": 18,
     "metadata": {},
     "output_type": "execute_result"
    }
   ],
   "source": [
    "today_str = datetime.datetime.strftime(today, \"%Y-%m-%d\")\n",
    "today_str"
   ]
  },
  {
   "cell_type": "code",
   "execution_count": 19,
   "id": "e528d626",
   "metadata": {},
   "outputs": [],
   "source": [
    "def update_prices(start_date,end_date,symbols=['BTC-USD']):\n",
    "    start_date_str = start_date.strftime(\"%Y-%m-%d\")\n",
    "    end_date_str = end_date.strftime(\"%Y-%m-%d\")\n",
    "    data = {}\n",
    "\n",
    "    for symbol in symbols:\n",
    "        print(f\"Loading data for {symbol}\")\n",
    "        # Save the cryto price into datframe\n",
    "        data[symbol] = pd.DataFrame(load_historic_data(symbol, start_date_str, end_date_str, period, interval))\n",
    "        data[symbol]['price_change'] = data[symbol]['Close'].pct_change()\n",
    "\n",
    "        # Output to csv\n",
    "        file_name = f\"{start_date_str}_{end_date_str}_{symbol}_{interval}.csv\"\n",
    "        data[symbol].to_csv(f\"~/code/giadapi/crypto/raw_data/{file_name}\")\n",
    "    \n",
    "    return data\n",
    "\n",
    "    \n",
    "    \n",
    "    "
   ]
  },
  {
   "cell_type": "code",
   "execution_count": 34,
   "id": "254aeaaa",
   "metadata": {},
   "outputs": [],
   "source": [
    "df = pd.read_csv(\"~/code/giadapi/crypto/raw_data/2020-03-10_2023-03-10_BTC-USD_1d.csv\")\n",
    "last_time = df['Date'].iloc[-1]\n",
    "last_time = pd.to_datetime(last_time)\n",
    "# datetime.strftime(last_time,\"%Y-%m-%d\")"
   ]
  },
  {
   "cell_type": "code",
   "execution_count": 45,
   "id": "4acf94db",
   "metadata": {},
   "outputs": [
    {
     "data": {
      "text/plain": [
       "'2023-03-13_00:00:00_UTC'"
      ]
     },
     "execution_count": 45,
     "metadata": {},
     "output_type": "execute_result"
    }
   ],
   "source": [
    "now = datetime.now().date()\n",
    "now = pd.Timestamp(now)\n",
    "now.isoformat(\"_\", \"seconds\")+\"_UTC\""
   ]
  },
  {
   "cell_type": "code",
   "execution_count": 44,
   "id": "27470e38",
   "metadata": {},
   "outputs": [
    {
     "data": {
      "text/plain": [
       "Timestamp('2023-03-13 00:00:00')"
      ]
     },
     "execution_count": 44,
     "metadata": {},
     "output_type": "execute_result"
    }
   ],
   "source": [
    "now"
   ]
  },
  {
   "cell_type": "code",
   "execution_count": 39,
   "id": "817dde23",
   "metadata": {},
   "outputs": [
    {
     "name": "stdout",
     "output_type": "stream",
     "text": [
      "2023-03-13\n",
      "Loading data for BTC-USD\n",
      "[*********************100%***********************]  1 of 1 completed\n"
     ]
    },
    {
     "data": {
      "text/plain": [
       "{'BTC-USD':                     Open          High           Low         Close  \\\n",
       " Date                                                                 \n",
       " 2023-03-09  21720.080078  21802.716797  20210.306641  20363.021484   \n",
       " 2023-03-10  20367.001953  20370.595703  19628.253906  20187.244141   \n",
       " 2023-03-11  20187.876953  20792.525391  20068.660156  20632.410156   \n",
       " 2023-03-12  20628.029297  22185.031250  20448.806641  22163.949219   \n",
       " \n",
       "                Adj Close       Volume   Symbol  price_change  \n",
       " Date                                                          \n",
       " 2023-03-09  20363.021484  30364664171  BTC-USD           NaN  \n",
       " 2023-03-10  20187.244141  39578257695  BTC-USD     -0.008632  \n",
       " 2023-03-11  20632.410156  30180288176  BTC-USD      0.022052  \n",
       " 2023-03-12  22163.949219  29279035521  BTC-USD      0.074230  }"
      ]
     },
     "execution_count": 39,
     "metadata": {},
     "output_type": "execute_result"
    }
   ],
   "source": [
    "end_date = datetime.now().date()\n",
    "print(end_date)\n",
    "update_prices(last_time,end_date,symbols=['BTC-USD'])"
   ]
  },
  {
   "cell_type": "markdown",
   "id": "a570b050",
   "metadata": {},
   "source": [
    "### Step 2b (option B) - Specify the date range"
   ]
  },
  {
   "cell_type": "code",
   "execution_count": 8,
   "id": "4d2d8dd3",
   "metadata": {},
   "outputs": [],
   "source": [
    "start_date_str = '2022-01-01'\n",
    "end_date_str = '2022-06-30'"
   ]
  },
  {
   "cell_type": "code",
   "execution_count": 9,
   "id": "8c6817c0",
   "metadata": {},
   "outputs": [
    {
     "name": "stdout",
     "output_type": "stream",
     "text": [
      "2022-06-30\n"
     ]
    }
   ],
   "source": [
    "print(end_date_str)"
   ]
  },
  {
   "cell_type": "code",
   "execution_count": 10,
   "id": "d68ee8d2",
   "metadata": {},
   "outputs": [
    {
     "name": "stdout",
     "output_type": "stream",
     "text": [
      "2022-01-01\n"
     ]
    }
   ],
   "source": [
    "print(start_date_str)"
   ]
  },
  {
   "cell_type": "markdown",
   "id": "fc9afaee",
   "metadata": {},
   "source": [
    "### Step 2c - Select Coin"
   ]
  },
  {
   "cell_type": "code",
   "execution_count": 11,
   "id": "80d94a8a",
   "metadata": {},
   "outputs": [],
   "source": [
    "symbols = ['BTC-USD']\n",
    "\n",
    "#coin symbols: \n",
    "#'BTC-USD','ETH-USD','BCH-USD','LTC-USD','BNB-USD','BAT-USD','XLM-USD','DOGE-USD','DOGE-USD','COMP-USD','ALGO-USD','OMG-USD'"
   ]
  },
  {
   "cell_type": "markdown",
   "id": "7ddfebab",
   "metadata": {},
   "source": [
    "## Step 3 - Download the data of coins price"
   ]
  },
  {
   "cell_type": "code",
   "execution_count": 12,
   "id": "cd00dc9d",
   "metadata": {},
   "outputs": [
    {
     "name": "stdout",
     "output_type": "stream",
     "text": [
      "Loading data for BTC-USD\n",
      "[*********************100%***********************]  1 of 1 completed\n"
     ]
    }
   ],
   "source": [
    "#  Fetch data for coin symbols\n",
    "data = {}\n",
    "\n",
    "for symbol in symbols:\n",
    "    print(f\"Loading data for {symbol}\")\n",
    "    # Save the cryto price into datframe\n",
    "    data[symbol] = pd.DataFrame(load_historic_data(symbol, start_date_str, end_date_str, period, interval))\n",
    "    data[symbol]['price_change'] = data[symbol]['Close'].pct_change()\n",
    "    \n",
    "    # Output to csv\n",
    "    file_name = f\"{start_date_str}_{end_date_str}_{symbol}_{interval}.csv\"\n",
    "    data[symbol].to_csv(f\"~/code/giadapi/crypto/raw_data/{file_name}\")\n",
    "    "
   ]
  },
  {
   "cell_type": "markdown",
   "id": "5f95f1e0",
   "metadata": {},
   "source": [
    "## Step 4 - re-use the df of other cryto"
   ]
  },
  {
   "cell_type": "code",
   "execution_count": 13,
   "id": "c8e5457f",
   "metadata": {},
   "outputs": [
    {
     "data": {
      "text/html": [
       "<div>\n",
       "<style scoped>\n",
       "    .dataframe tbody tr th:only-of-type {\n",
       "        vertical-align: middle;\n",
       "    }\n",
       "\n",
       "    .dataframe tbody tr th {\n",
       "        vertical-align: top;\n",
       "    }\n",
       "\n",
       "    .dataframe thead th {\n",
       "        text-align: right;\n",
       "    }\n",
       "</style>\n",
       "<table border=\"1\" class=\"dataframe\">\n",
       "  <thead>\n",
       "    <tr style=\"text-align: right;\">\n",
       "      <th></th>\n",
       "      <th>Open</th>\n",
       "      <th>High</th>\n",
       "      <th>Low</th>\n",
       "      <th>Close</th>\n",
       "      <th>Adj Close</th>\n",
       "      <th>Volume</th>\n",
       "      <th>Symbol</th>\n",
       "      <th>price_change</th>\n",
       "    </tr>\n",
       "    <tr>\n",
       "      <th>Date</th>\n",
       "      <th></th>\n",
       "      <th></th>\n",
       "      <th></th>\n",
       "      <th></th>\n",
       "      <th></th>\n",
       "      <th></th>\n",
       "      <th></th>\n",
       "      <th></th>\n",
       "    </tr>\n",
       "  </thead>\n",
       "  <tbody>\n",
       "    <tr>\n",
       "      <th>2022-01-01</th>\n",
       "      <td>46311.746094</td>\n",
       "      <td>47827.312500</td>\n",
       "      <td>46288.484375</td>\n",
       "      <td>47686.812500</td>\n",
       "      <td>47686.812500</td>\n",
       "      <td>24582667004</td>\n",
       "      <td>BTC-USD</td>\n",
       "      <td>NaN</td>\n",
       "    </tr>\n",
       "    <tr>\n",
       "      <th>2022-01-02</th>\n",
       "      <td>47680.925781</td>\n",
       "      <td>47881.406250</td>\n",
       "      <td>46856.937500</td>\n",
       "      <td>47345.218750</td>\n",
       "      <td>47345.218750</td>\n",
       "      <td>27951569547</td>\n",
       "      <td>BTC-USD</td>\n",
       "      <td>-0.007163</td>\n",
       "    </tr>\n",
       "    <tr>\n",
       "      <th>2022-01-03</th>\n",
       "      <td>47343.542969</td>\n",
       "      <td>47510.726562</td>\n",
       "      <td>45835.964844</td>\n",
       "      <td>46458.117188</td>\n",
       "      <td>46458.117188</td>\n",
       "      <td>33071628362</td>\n",
       "      <td>BTC-USD</td>\n",
       "      <td>-0.018737</td>\n",
       "    </tr>\n",
       "    <tr>\n",
       "      <th>2022-01-04</th>\n",
       "      <td>46458.851562</td>\n",
       "      <td>47406.546875</td>\n",
       "      <td>45752.464844</td>\n",
       "      <td>45897.574219</td>\n",
       "      <td>45897.574219</td>\n",
       "      <td>42494677905</td>\n",
       "      <td>BTC-USD</td>\n",
       "      <td>-0.012066</td>\n",
       "    </tr>\n",
       "    <tr>\n",
       "      <th>2022-01-05</th>\n",
       "      <td>45899.359375</td>\n",
       "      <td>46929.046875</td>\n",
       "      <td>42798.222656</td>\n",
       "      <td>43569.003906</td>\n",
       "      <td>43569.003906</td>\n",
       "      <td>36851084859</td>\n",
       "      <td>BTC-USD</td>\n",
       "      <td>-0.050734</td>\n",
       "    </tr>\n",
       "    <tr>\n",
       "      <th>...</th>\n",
       "      <td>...</td>\n",
       "      <td>...</td>\n",
       "      <td>...</td>\n",
       "      <td>...</td>\n",
       "      <td>...</td>\n",
       "      <td>...</td>\n",
       "      <td>...</td>\n",
       "      <td>...</td>\n",
       "    </tr>\n",
       "    <tr>\n",
       "      <th>2022-06-25</th>\n",
       "      <td>21233.609375</td>\n",
       "      <td>21520.914062</td>\n",
       "      <td>20964.585938</td>\n",
       "      <td>21502.337891</td>\n",
       "      <td>21502.337891</td>\n",
       "      <td>18372538715</td>\n",
       "      <td>BTC-USD</td>\n",
       "      <td>0.012749</td>\n",
       "    </tr>\n",
       "    <tr>\n",
       "      <th>2022-06-26</th>\n",
       "      <td>21496.494141</td>\n",
       "      <td>21783.724609</td>\n",
       "      <td>21016.269531</td>\n",
       "      <td>21027.294922</td>\n",
       "      <td>21027.294922</td>\n",
       "      <td>18027170497</td>\n",
       "      <td>BTC-USD</td>\n",
       "      <td>-0.022093</td>\n",
       "    </tr>\n",
       "    <tr>\n",
       "      <th>2022-06-27</th>\n",
       "      <td>21028.238281</td>\n",
       "      <td>21478.089844</td>\n",
       "      <td>20620.199219</td>\n",
       "      <td>20735.478516</td>\n",
       "      <td>20735.478516</td>\n",
       "      <td>20965695707</td>\n",
       "      <td>BTC-USD</td>\n",
       "      <td>-0.013878</td>\n",
       "    </tr>\n",
       "    <tr>\n",
       "      <th>2022-06-28</th>\n",
       "      <td>20731.544922</td>\n",
       "      <td>21164.423828</td>\n",
       "      <td>20228.812500</td>\n",
       "      <td>20280.634766</td>\n",
       "      <td>20280.634766</td>\n",
       "      <td>21381535161</td>\n",
       "      <td>BTC-USD</td>\n",
       "      <td>-0.021936</td>\n",
       "    </tr>\n",
       "    <tr>\n",
       "      <th>2022-06-29</th>\n",
       "      <td>20281.169922</td>\n",
       "      <td>20364.156250</td>\n",
       "      <td>19937.791016</td>\n",
       "      <td>20104.023438</td>\n",
       "      <td>20104.023438</td>\n",
       "      <td>23552740328</td>\n",
       "      <td>BTC-USD</td>\n",
       "      <td>-0.008708</td>\n",
       "    </tr>\n",
       "  </tbody>\n",
       "</table>\n",
       "<p>180 rows × 8 columns</p>\n",
       "</div>"
      ],
      "text/plain": [
       "                    Open          High           Low         Close  \\\n",
       "Date                                                                 \n",
       "2022-01-01  46311.746094  47827.312500  46288.484375  47686.812500   \n",
       "2022-01-02  47680.925781  47881.406250  46856.937500  47345.218750   \n",
       "2022-01-03  47343.542969  47510.726562  45835.964844  46458.117188   \n",
       "2022-01-04  46458.851562  47406.546875  45752.464844  45897.574219   \n",
       "2022-01-05  45899.359375  46929.046875  42798.222656  43569.003906   \n",
       "...                  ...           ...           ...           ...   \n",
       "2022-06-25  21233.609375  21520.914062  20964.585938  21502.337891   \n",
       "2022-06-26  21496.494141  21783.724609  21016.269531  21027.294922   \n",
       "2022-06-27  21028.238281  21478.089844  20620.199219  20735.478516   \n",
       "2022-06-28  20731.544922  21164.423828  20228.812500  20280.634766   \n",
       "2022-06-29  20281.169922  20364.156250  19937.791016  20104.023438   \n",
       "\n",
       "               Adj Close       Volume   Symbol  price_change  \n",
       "Date                                                          \n",
       "2022-01-01  47686.812500  24582667004  BTC-USD           NaN  \n",
       "2022-01-02  47345.218750  27951569547  BTC-USD     -0.007163  \n",
       "2022-01-03  46458.117188  33071628362  BTC-USD     -0.018737  \n",
       "2022-01-04  45897.574219  42494677905  BTC-USD     -0.012066  \n",
       "2022-01-05  43569.003906  36851084859  BTC-USD     -0.050734  \n",
       "...                  ...          ...      ...           ...  \n",
       "2022-06-25  21502.337891  18372538715  BTC-USD      0.012749  \n",
       "2022-06-26  21027.294922  18027170497  BTC-USD     -0.022093  \n",
       "2022-06-27  20735.478516  20965695707  BTC-USD     -0.013878  \n",
       "2022-06-28  20280.634766  21381535161  BTC-USD     -0.021936  \n",
       "2022-06-29  20104.023438  23552740328  BTC-USD     -0.008708  \n",
       "\n",
       "[180 rows x 8 columns]"
      ]
     },
     "execution_count": 13,
     "metadata": {},
     "output_type": "execute_result"
    }
   ],
   "source": [
    "data['BTC-USD']"
   ]
  },
  {
   "cell_type": "code",
   "execution_count": 14,
   "id": "8b780274",
   "metadata": {},
   "outputs": [
    {
     "name": "stdout",
     "output_type": "stream",
     "text": [
      "[*********************100%***********************]  1 of 1 completed\n"
     ]
    },
    {
     "data": {
      "text/html": [
       "<div>\n",
       "<style scoped>\n",
       "    .dataframe tbody tr th:only-of-type {\n",
       "        vertical-align: middle;\n",
       "    }\n",
       "\n",
       "    .dataframe tbody tr th {\n",
       "        vertical-align: top;\n",
       "    }\n",
       "\n",
       "    .dataframe thead th {\n",
       "        text-align: right;\n",
       "    }\n",
       "</style>\n",
       "<table border=\"1\" class=\"dataframe\">\n",
       "  <thead>\n",
       "    <tr style=\"text-align: right;\">\n",
       "      <th></th>\n",
       "      <th>Open</th>\n",
       "      <th>High</th>\n",
       "      <th>Low</th>\n",
       "      <th>Close</th>\n",
       "      <th>Adj Close</th>\n",
       "      <th>Volume</th>\n",
       "      <th>Symbol</th>\n",
       "      <th>price_change</th>\n",
       "    </tr>\n",
       "    <tr>\n",
       "      <th>Date</th>\n",
       "      <th></th>\n",
       "      <th></th>\n",
       "      <th></th>\n",
       "      <th></th>\n",
       "      <th></th>\n",
       "      <th></th>\n",
       "      <th></th>\n",
       "      <th></th>\n",
       "    </tr>\n",
       "  </thead>\n",
       "  <tbody>\n",
       "    <tr>\n",
       "      <th>2022-01-01</th>\n",
       "      <td>46311.746094</td>\n",
       "      <td>47827.312500</td>\n",
       "      <td>46288.484375</td>\n",
       "      <td>47686.812500</td>\n",
       "      <td>47686.812500</td>\n",
       "      <td>24582667004</td>\n",
       "      <td>BTC-USD</td>\n",
       "      <td>NaN</td>\n",
       "    </tr>\n",
       "    <tr>\n",
       "      <th>2022-01-02</th>\n",
       "      <td>47680.925781</td>\n",
       "      <td>47881.406250</td>\n",
       "      <td>46856.937500</td>\n",
       "      <td>47345.218750</td>\n",
       "      <td>47345.218750</td>\n",
       "      <td>27951569547</td>\n",
       "      <td>BTC-USD</td>\n",
       "      <td>-0.007163</td>\n",
       "    </tr>\n",
       "    <tr>\n",
       "      <th>2022-01-03</th>\n",
       "      <td>47343.542969</td>\n",
       "      <td>47510.726562</td>\n",
       "      <td>45835.964844</td>\n",
       "      <td>46458.117188</td>\n",
       "      <td>46458.117188</td>\n",
       "      <td>33071628362</td>\n",
       "      <td>BTC-USD</td>\n",
       "      <td>-0.018737</td>\n",
       "    </tr>\n",
       "    <tr>\n",
       "      <th>2022-01-04</th>\n",
       "      <td>46458.851562</td>\n",
       "      <td>47406.546875</td>\n",
       "      <td>45752.464844</td>\n",
       "      <td>45897.574219</td>\n",
       "      <td>45897.574219</td>\n",
       "      <td>42494677905</td>\n",
       "      <td>BTC-USD</td>\n",
       "      <td>-0.012066</td>\n",
       "    </tr>\n",
       "    <tr>\n",
       "      <th>2022-01-05</th>\n",
       "      <td>45899.359375</td>\n",
       "      <td>46929.046875</td>\n",
       "      <td>42798.222656</td>\n",
       "      <td>43569.003906</td>\n",
       "      <td>43569.003906</td>\n",
       "      <td>36851084859</td>\n",
       "      <td>BTC-USD</td>\n",
       "      <td>-0.050734</td>\n",
       "    </tr>\n",
       "    <tr>\n",
       "      <th>...</th>\n",
       "      <td>...</td>\n",
       "      <td>...</td>\n",
       "      <td>...</td>\n",
       "      <td>...</td>\n",
       "      <td>...</td>\n",
       "      <td>...</td>\n",
       "      <td>...</td>\n",
       "      <td>...</td>\n",
       "    </tr>\n",
       "    <tr>\n",
       "      <th>2022-06-25</th>\n",
       "      <td>21233.609375</td>\n",
       "      <td>21520.914062</td>\n",
       "      <td>20964.585938</td>\n",
       "      <td>21502.337891</td>\n",
       "      <td>21502.337891</td>\n",
       "      <td>18372538715</td>\n",
       "      <td>BTC-USD</td>\n",
       "      <td>0.012749</td>\n",
       "    </tr>\n",
       "    <tr>\n",
       "      <th>2022-06-26</th>\n",
       "      <td>21496.494141</td>\n",
       "      <td>21783.724609</td>\n",
       "      <td>21016.269531</td>\n",
       "      <td>21027.294922</td>\n",
       "      <td>21027.294922</td>\n",
       "      <td>18027170497</td>\n",
       "      <td>BTC-USD</td>\n",
       "      <td>-0.022093</td>\n",
       "    </tr>\n",
       "    <tr>\n",
       "      <th>2022-06-27</th>\n",
       "      <td>21028.238281</td>\n",
       "      <td>21478.089844</td>\n",
       "      <td>20620.199219</td>\n",
       "      <td>20735.478516</td>\n",
       "      <td>20735.478516</td>\n",
       "      <td>20965695707</td>\n",
       "      <td>BTC-USD</td>\n",
       "      <td>-0.013878</td>\n",
       "    </tr>\n",
       "    <tr>\n",
       "      <th>2022-06-28</th>\n",
       "      <td>20731.544922</td>\n",
       "      <td>21164.423828</td>\n",
       "      <td>20228.812500</td>\n",
       "      <td>20280.634766</td>\n",
       "      <td>20280.634766</td>\n",
       "      <td>21381535161</td>\n",
       "      <td>BTC-USD</td>\n",
       "      <td>-0.021936</td>\n",
       "    </tr>\n",
       "    <tr>\n",
       "      <th>2022-06-29</th>\n",
       "      <td>20281.169922</td>\n",
       "      <td>20364.156250</td>\n",
       "      <td>19937.791016</td>\n",
       "      <td>20104.023438</td>\n",
       "      <td>20104.023438</td>\n",
       "      <td>23552740328</td>\n",
       "      <td>BTC-USD</td>\n",
       "      <td>-0.008708</td>\n",
       "    </tr>\n",
       "  </tbody>\n",
       "</table>\n",
       "<p>180 rows × 8 columns</p>\n",
       "</div>"
      ],
      "text/plain": [
       "                    Open          High           Low         Close  \\\n",
       "Date                                                                 \n",
       "2022-01-01  46311.746094  47827.312500  46288.484375  47686.812500   \n",
       "2022-01-02  47680.925781  47881.406250  46856.937500  47345.218750   \n",
       "2022-01-03  47343.542969  47510.726562  45835.964844  46458.117188   \n",
       "2022-01-04  46458.851562  47406.546875  45752.464844  45897.574219   \n",
       "2022-01-05  45899.359375  46929.046875  42798.222656  43569.003906   \n",
       "...                  ...           ...           ...           ...   \n",
       "2022-06-25  21233.609375  21520.914062  20964.585938  21502.337891   \n",
       "2022-06-26  21496.494141  21783.724609  21016.269531  21027.294922   \n",
       "2022-06-27  21028.238281  21478.089844  20620.199219  20735.478516   \n",
       "2022-06-28  20731.544922  21164.423828  20228.812500  20280.634766   \n",
       "2022-06-29  20281.169922  20364.156250  19937.791016  20104.023438   \n",
       "\n",
       "               Adj Close       Volume   Symbol  price_change  \n",
       "Date                                                          \n",
       "2022-01-01  47686.812500  24582667004  BTC-USD           NaN  \n",
       "2022-01-02  47345.218750  27951569547  BTC-USD     -0.007163  \n",
       "2022-01-03  46458.117188  33071628362  BTC-USD     -0.018737  \n",
       "2022-01-04  45897.574219  42494677905  BTC-USD     -0.012066  \n",
       "2022-01-05  43569.003906  36851084859  BTC-USD     -0.050734  \n",
       "...                  ...          ...      ...           ...  \n",
       "2022-06-25  21502.337891  18372538715  BTC-USD      0.012749  \n",
       "2022-06-26  21027.294922  18027170497  BTC-USD     -0.022093  \n",
       "2022-06-27  20735.478516  20965695707  BTC-USD     -0.013878  \n",
       "2022-06-28  20280.634766  21381535161  BTC-USD     -0.021936  \n",
       "2022-06-29  20104.023438  23552740328  BTC-USD     -0.008708  \n",
       "\n",
       "[180 rows x 8 columns]"
      ]
     },
     "execution_count": 14,
     "metadata": {},
     "output_type": "execute_result"
    }
   ],
   "source": [
    "load_historic_data(symbol, start_date_str, end_date_str, period, interval)"
   ]
  },
  {
   "cell_type": "code",
   "execution_count": null,
   "id": "f628464e",
   "metadata": {},
   "outputs": [],
   "source": []
  },
  {
   "cell_type": "code",
   "execution_count": null,
   "id": "10f266f9",
   "metadata": {},
   "outputs": [],
   "source": []
  }
 ],
 "metadata": {
  "kernelspec": {
   "display_name": "Python 3 (ipykernel)",
   "language": "python",
   "name": "python3"
  },
  "language_info": {
   "codemirror_mode": {
    "name": "ipython",
    "version": 3
   },
   "file_extension": ".py",
   "mimetype": "text/x-python",
   "name": "python",
   "nbconvert_exporter": "python",
   "pygments_lexer": "ipython3",
   "version": "3.10.6"
  },
  "toc": {
   "base_numbering": 1,
   "nav_menu": {},
   "number_sections": true,
   "sideBar": true,
   "skip_h1_title": false,
   "title_cell": "Table of Contents",
   "title_sidebar": "Contents",
   "toc_cell": false,
   "toc_position": {},
   "toc_section_display": true,
   "toc_window_display": false
  }
 },
 "nbformat": 4,
 "nbformat_minor": 5
}
