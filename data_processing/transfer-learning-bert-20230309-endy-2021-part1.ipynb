{
 "cells": [
  {
   "cell_type": "code",
   "execution_count": 1,
   "id": "c9315c31",
   "metadata": {},
   "outputs": [
    {
     "name": "stderr",
     "output_type": "stream",
     "text": [
      "/Users/endy/.pyenv/versions/3.10.6/envs/crypto/lib/python3.10/site-packages/tqdm/auto.py:21: TqdmWarning: IProgress not found. Please update jupyter and ipywidgets. See https://ipywidgets.readthedocs.io/en/stable/user_install.html\n",
      "  from .autonotebook import tqdm as notebook_tqdm\n"
     ]
    }
   ],
   "source": [
    "from transformers import AutoModelForSequenceClassification\n",
    "from transformers import TFAutoModelForSequenceClassification\n",
    "from transformers import AutoTokenizer, AutoConfig, TextClassificationPipeline\n",
    "from transformers import pipeline\n",
    "import numpy as np\n",
    "import pandas as pd\n",
    "from scipy.special import softmax\n",
    "import datetime"
   ]
  },
  {
   "cell_type": "markdown",
   "id": "b168cb5b",
   "metadata": {},
   "source": [
    "## Step 1 - Importing Bitcoin Tweet Data"
   ]
  },
  {
   "cell_type": "code",
   "execution_count": 2,
   "id": "0011e028",
   "metadata": {},
   "outputs": [],
   "source": [
    "# data from kaggle, from 20210101 to 20211231\n",
    "data = pd.read_csv('~/Code/giadapi/crypto/data/raw/tweets_2021_reduced.csv')"
   ]
  },
  {
   "cell_type": "code",
   "execution_count": 5,
   "id": "cf85b974",
   "metadata": {},
   "outputs": [],
   "source": [
    "# Covert datetime to date (e.g., 2022-01-01)\n",
    "data['date'] = data['datetime']\n",
    "for i in range(len(data)):\n",
    "    data['date'][i] = data['datetime'][i][0:10]"
   ]
  },
  {
   "cell_type": "markdown",
   "id": "f961bc8b",
   "metadata": {},
   "source": [
    "## Step 2a - Spilit the data into Quarters"
   ]
  },
  {
   "cell_type": "markdown",
   "id": "4a889ea0",
   "metadata": {},
   "source": [
    "2021Q1 - data[0] to data[47447]\n",
    "2021Q2 - data[47447] to data[102100]\n",
    "2021Q3 - data[102100] to data[148948]\n",
    "2021Q4 - data[148948] to data[202822]"
   ]
  },
  {
   "cell_type": "code",
   "execution_count": 70,
   "id": "fa08d492",
   "metadata": {},
   "outputs": [],
   "source": [
    "file_name = f\"tweets_2021Q1_reduced.csv\"\n",
    "data[0:47447].to_csv(f\"~/code/giadapi/crypto/data/raw/{file_name}\")"
   ]
  },
  {
   "cell_type": "code",
   "execution_count": 71,
   "id": "da1e1910",
   "metadata": {},
   "outputs": [],
   "source": [
    "file_name = f\"tweets_2021Q2_reduced.csv\"\n",
    "data[47447:102100].to_csv(f\"~/code/giadapi/crypto/data/raw/{file_name}\")"
   ]
  },
  {
   "cell_type": "code",
   "execution_count": 74,
   "id": "1593ff1a",
   "metadata": {},
   "outputs": [],
   "source": [
    "file_name = f\"tweets_2021Q3_reduced.csv\"\n",
    "data[102100:148949].to_csv(f\"~/code/giadapi/crypto/data/raw/{file_name}\")"
   ]
  },
  {
   "cell_type": "code",
   "execution_count": 75,
   "id": "aacec1d0",
   "metadata": {},
   "outputs": [],
   "source": [
    "file_name = f\"tweets_2021Q4_reduced.csv\"\n",
    "data[148949:202822].to_csv(f\"~/code/giadapi/crypto/data/raw/{file_name}\")"
   ]
  },
  {
   "cell_type": "markdown",
   "id": "902d3384",
   "metadata": {},
   "source": [
    "## Step 2b - Spilit the data into months"
   ]
  },
  {
   "cell_type": "markdown",
   "id": "738cbcd9",
   "metadata": {},
   "source": [
    "202201 - data[0:14003]\n",
    "202202 - data[14003:30222]\n",
    "202203 - data[30222:47447]\n",
    "202204 - data[47447:61685]\n",
    "202205 - data[61685:81704]\n",
    "202206 - data[81704:102100]\n",
    "202207 - data[102100:117605]\n",
    "202208 - data[117605:132898]\n",
    "202209 - data[132898:148948]\n",
    "202210 - data[148948:170024]\n",
    "202211 - data[170024:187925]\n",
    "202212 - data[187925:202822]"
   ]
  },
  {
   "cell_type": "code",
   "execution_count": 88,
   "id": "ec2b2a84",
   "metadata": {},
   "outputs": [],
   "source": [
    "file_name = f\"tweets_202101_reduced.csv\"\n",
    "data[0:14003].to_csv(f\"~/code/giadapi/crypto/data/raw/{file_name}\")\n",
    "file_name = f\"tweets_202102_reduced.csv\"\n",
    "data[14003:30222].to_csv(f\"~/code/giadapi/crypto/data/raw/{file_name}\")\n",
    "file_name = f\"tweets_202103_reduced.csv\"\n",
    "data[30222:47447].to_csv(f\"~/code/giadapi/crypto/data/raw/{file_name}\")"
   ]
  },
  {
   "cell_type": "code",
   "execution_count": 133,
   "id": "cd6a4bab",
   "metadata": {},
   "outputs": [],
   "source": [
    "file_name = f\"tweets_202104_reduced.csv\"\n",
    "data[47447:61685].to_csv(f\"~/code/giadapi/crypto/data/raw/{file_name}\")\n",
    "file_name = f\"tweets_202105_reduced.csv\"\n",
    "data[61685:81704].to_csv(f\"~/code/giadapi/crypto/data/raw/{file_name}\")\n",
    "file_name = f\"tweets_202106_reduced.csv\"\n",
    "data[81704:102100].to_csv(f\"~/code/giadapi/crypto/data/raw/{file_name}\")"
   ]
  },
  {
   "cell_type": "code",
   "execution_count": 156,
   "id": "e0dd06ca",
   "metadata": {},
   "outputs": [],
   "source": [
    "file_name = f\"tweets_202107_reduced.csv\"\n",
    "data[102100:117605].to_csv(f\"~/code/giadapi/crypto/data/raw/{file_name}\")\n",
    "file_name = f\"tweets_202108_reduced.csv\"\n",
    "data[117605:132898].to_csv(f\"~/code/giadapi/crypto/data/raw/{file_name}\")\n",
    "file_name = f\"tweets_202109_reduced.csv\"\n",
    "data[132898:148948].to_csv(f\"~/code/giadapi/crypto/data/raw/{file_name}\")"
   ]
  },
  {
   "cell_type": "code",
   "execution_count": 173,
   "id": "3c6436de",
   "metadata": {},
   "outputs": [],
   "source": [
    "file_name = f\"tweets_202110_reduced.csv\"\n",
    "data[148948:170024].to_csv(f\"~/code/giadapi/crypto/data/raw/{file_name}\")\n",
    "file_name = f\"tweets_202111_reduced.csv\"\n",
    "data[170024:187925].to_csv(f\"~/code/giadapi/crypto/data/raw/{file_name}\")\n",
    "file_name = f\"tweets_202112_reduced.csv\"\n",
    "data[187925:202822].to_csv(f\"~/code/giadapi/crypto/data/raw/{file_name}\")"
   ]
  },
  {
   "cell_type": "code",
   "execution_count": null,
   "id": "4eb9a257",
   "metadata": {},
   "outputs": [],
   "source": []
  }
 ],
 "metadata": {
  "kernelspec": {
   "display_name": "Python 3 (ipykernel)",
   "language": "python",
   "name": "python3"
  },
  "language_info": {
   "codemirror_mode": {
    "name": "ipython",
    "version": 3
   },
   "file_extension": ".py",
   "mimetype": "text/x-python",
   "name": "python",
   "nbconvert_exporter": "python",
   "pygments_lexer": "ipython3",
   "version": "3.10.6"
  }
 },
 "nbformat": 4,
 "nbformat_minor": 5
}
