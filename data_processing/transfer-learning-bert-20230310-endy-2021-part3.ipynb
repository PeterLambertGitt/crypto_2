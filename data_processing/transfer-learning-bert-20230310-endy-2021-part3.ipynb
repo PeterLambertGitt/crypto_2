{
 "cells": [
  {
   "cell_type": "markdown",
   "id": "8e7441a2",
   "metadata": {},
   "source": [
    "## Checking the error Data for 2021 Jan and May"
   ]
  },
  {
   "cell_type": "code",
   "execution_count": 72,
   "id": "28f08c21",
   "metadata": {},
   "outputs": [],
   "source": [
    "from transformers import AutoModelForSequenceClassification\n",
    "from transformers import TFAutoModelForSequenceClassification\n",
    "from transformers import AutoTokenizer, AutoConfig, TextClassificationPipeline\n",
    "from transformers import pipeline\n",
    "import numpy as np\n",
    "import pandas as pd\n",
    "from scipy.special import softmax\n",
    "import datetime\n",
    "import seaborn as sns"
   ]
  },
  {
   "cell_type": "code",
   "execution_count": 2,
   "id": "fe56af4b",
   "metadata": {},
   "outputs": [
    {
     "name": "stdout",
     "output_type": "stream",
     "text": [
      "Requirement already satisfied: torch in /home/peter/.pyenv/versions/3.10.6/envs/lewagon/lib/python3.10/site-packages (2.0.0)\n",
      "Requirement already satisfied: sympy in /home/peter/.pyenv/versions/3.10.6/envs/lewagon/lib/python3.10/site-packages (from torch) (1.11.1)\n",
      "Requirement already satisfied: nvidia-cusolver-cu11==11.4.0.1 in /home/peter/.pyenv/versions/3.10.6/envs/lewagon/lib/python3.10/site-packages (from torch) (11.4.0.1)\n",
      "Requirement already satisfied: nvidia-cudnn-cu11==8.5.0.96 in /home/peter/.pyenv/versions/3.10.6/envs/lewagon/lib/python3.10/site-packages (from torch) (8.5.0.96)\n",
      "Requirement already satisfied: jinja2 in /home/peter/.pyenv/versions/3.10.6/envs/lewagon/lib/python3.10/site-packages (from torch) (3.1.2)\n",
      "Requirement already satisfied: networkx in /home/peter/.pyenv/versions/3.10.6/envs/lewagon/lib/python3.10/site-packages (from torch) (2.8.7)\n",
      "Requirement already satisfied: typing-extensions in /home/peter/.pyenv/versions/3.10.6/envs/lewagon/lib/python3.10/site-packages (from torch) (4.4.0)\n",
      "Requirement already satisfied: nvidia-cublas-cu11==11.10.3.66 in /home/peter/.pyenv/versions/3.10.6/envs/lewagon/lib/python3.10/site-packages (from torch) (11.10.3.66)\n",
      "Requirement already satisfied: nvidia-cufft-cu11==10.9.0.58 in /home/peter/.pyenv/versions/3.10.6/envs/lewagon/lib/python3.10/site-packages (from torch) (10.9.0.58)\n",
      "Requirement already satisfied: nvidia-cusparse-cu11==11.7.4.91 in /home/peter/.pyenv/versions/3.10.6/envs/lewagon/lib/python3.10/site-packages (from torch) (11.7.4.91)\n",
      "Requirement already satisfied: triton==2.0.0 in /home/peter/.pyenv/versions/3.10.6/envs/lewagon/lib/python3.10/site-packages (from torch) (2.0.0)\n",
      "Requirement already satisfied: nvidia-nccl-cu11==2.14.3 in /home/peter/.pyenv/versions/3.10.6/envs/lewagon/lib/python3.10/site-packages (from torch) (2.14.3)\n",
      "Requirement already satisfied: nvidia-nvtx-cu11==11.7.91 in /home/peter/.pyenv/versions/3.10.6/envs/lewagon/lib/python3.10/site-packages (from torch) (11.7.91)\n",
      "Requirement already satisfied: nvidia-curand-cu11==10.2.10.91 in /home/peter/.pyenv/versions/3.10.6/envs/lewagon/lib/python3.10/site-packages (from torch) (10.2.10.91)\n",
      "Requirement already satisfied: nvidia-cuda-runtime-cu11==11.7.99 in /home/peter/.pyenv/versions/3.10.6/envs/lewagon/lib/python3.10/site-packages (from torch) (11.7.99)\n",
      "Requirement already satisfied: nvidia-cuda-nvrtc-cu11==11.7.99 in /home/peter/.pyenv/versions/3.10.6/envs/lewagon/lib/python3.10/site-packages (from torch) (11.7.99)\n",
      "Requirement already satisfied: filelock in /home/peter/.pyenv/versions/3.10.6/envs/lewagon/lib/python3.10/site-packages (from torch) (3.11.0)\n",
      "Requirement already satisfied: nvidia-cuda-cupti-cu11==11.7.101 in /home/peter/.pyenv/versions/3.10.6/envs/lewagon/lib/python3.10/site-packages (from torch) (11.7.101)\n",
      "Requirement already satisfied: setuptools in /home/peter/.pyenv/versions/3.10.6/envs/lewagon/lib/python3.10/site-packages (from nvidia-cublas-cu11==11.10.3.66->torch) (63.2.0)\n",
      "Requirement already satisfied: wheel in /home/peter/.pyenv/versions/3.10.6/envs/lewagon/lib/python3.10/site-packages (from nvidia-cublas-cu11==11.10.3.66->torch) (0.38.4)\n",
      "Requirement already satisfied: lit in /home/peter/.pyenv/versions/3.10.6/envs/lewagon/lib/python3.10/site-packages (from triton==2.0.0->torch) (16.0.0)\n",
      "Requirement already satisfied: cmake in /home/peter/.pyenv/versions/3.10.6/envs/lewagon/lib/python3.10/site-packages (from triton==2.0.0->torch) (3.26.1)\n",
      "Requirement already satisfied: MarkupSafe>=2.0 in /home/peter/.pyenv/versions/3.10.6/envs/lewagon/lib/python3.10/site-packages (from jinja2->torch) (2.1.1)\n",
      "Requirement already satisfied: mpmath>=0.19 in /home/peter/.pyenv/versions/3.10.6/envs/lewagon/lib/python3.10/site-packages (from sympy->torch) (1.3.0)\n"
     ]
    }
   ],
   "source": [
    "!pip install torch"
   ]
  },
  {
   "cell_type": "code",
   "execution_count": 3,
   "id": "d4e60cb9",
   "metadata": {},
   "outputs": [
    {
     "name": "stdout",
     "output_type": "stream",
     "text": [
      "Requirement already satisfied: protobuf==3.20.0 in /home/peter/.pyenv/versions/3.10.6/envs/lewagon/lib/python3.10/site-packages (3.20.0)\r\n"
     ]
    }
   ],
   "source": [
    "!pip install protobuf==3.20.0"
   ]
  },
  {
   "cell_type": "markdown",
   "id": "20081cbe",
   "metadata": {},
   "source": [
    "## Step 1 - Importing Bitcoin Tweet Data to begin analysing the model"
   ]
  },
  {
   "cell_type": "code",
   "execution_count": 40,
   "id": "c323f5ab",
   "metadata": {},
   "outputs": [],
   "source": [
    "data = pd.read_csv('../data/processed_data/processed_experts_tweets.csv')"
   ]
  },
  {
   "cell_type": "markdown",
   "id": "2de89806",
   "metadata": {},
   "source": [
    "## Step 2 - Cleaning the data"
   ]
  },
  {
   "cell_type": "code",
   "execution_count": 9,
   "id": "3f64e58b",
   "metadata": {},
   "outputs": [],
   "source": [
    "def preprocess(text):\n",
    "    new_text = []\n",
    "    text = str(text)\n",
    "    text = text.replace(\"\\n\", \" \")\n",
    "    for t in text.split(\" \"):\n",
    "        t = '' if t.startswith('@') and len(t) > 1 else t\n",
    "        t = '' if t.startswith('http') else t\n",
    "        new_text.append(t)\n",
    "    return \" \".join(new_text)"
   ]
  },
  {
   "cell_type": "code",
   "execution_count": 10,
   "id": "09e82154",
   "metadata": {
    "collapsed": true
   },
   "outputs": [
    {
     "name": "stderr",
     "output_type": "stream",
     "text": [
      "/var/folders/d5/bxgljmg10q70y4xmy233dhfr0000gn/T/ipykernel_10499/1973951134.py:2: SettingWithCopyWarning: \n",
      "A value is trying to be set on a copy of a slice from a DataFrame.\n",
      "Try using .loc[row_indexer,col_indexer] = value instead\n",
      "\n",
      "See the caveats in the documentation: https://pandas.pydata.org/pandas-docs/stable/user_guide/indexing.html#returning-a-view-versus-a-copy\n",
      "  data['process_text'] = data.text\n",
      "/var/folders/d5/bxgljmg10q70y4xmy233dhfr0000gn/T/ipykernel_10499/1973951134.py:3: SettingWithCopyWarning: \n",
      "A value is trying to be set on a copy of a slice from a DataFrame.\n",
      "Try using .loc[row_indexer,col_indexer] = value instead\n",
      "\n",
      "See the caveats in the documentation: https://pandas.pydata.org/pandas-docs/stable/user_guide/indexing.html#returning-a-view-versus-a-copy\n",
      "  data['negative_bert'] = data.text\n",
      "/var/folders/d5/bxgljmg10q70y4xmy233dhfr0000gn/T/ipykernel_10499/1973951134.py:4: SettingWithCopyWarning: \n",
      "A value is trying to be set on a copy of a slice from a DataFrame.\n",
      "Try using .loc[row_indexer,col_indexer] = value instead\n",
      "\n",
      "See the caveats in the documentation: https://pandas.pydata.org/pandas-docs/stable/user_guide/indexing.html#returning-a-view-versus-a-copy\n",
      "  data['neutral_bert'] = data.text\n"
     ]
    }
   ],
   "source": [
    "#use the preprocess to clean the data\n",
    "data['process_text'] = data['text'].apply(preprocess)"
   ]
  },
  {
   "cell_type": "markdown",
   "id": "c95de5a6",
   "metadata": {},
   "source": [
    "## Step 3 - analyse the language and sentiments by pretrained model"
   ]
  },
  {
   "cell_type": "code",
   "execution_count": 12,
   "id": "9dfe8563",
   "metadata": {},
   "outputs": [],
   "source": [
    "!pyenv local crypto"
   ]
  },
  {
   "cell_type": "code",
   "execution_count": 13,
   "id": "b5d07bd8",
   "metadata": {},
   "outputs": [],
   "source": [
    "#Model 2b - Use the bert model, with full scores\n",
    "MODEL_bert = f\"ElKulako/cryptobert\"\n",
    "tokenizer_bert = AutoTokenizer.from_pretrained(MODEL_bert)\n",
    "tokenizer_bert.model_max_length = 512 #solve the error: RuntimeError: The expanded size of the tensor (562) must match the existing size (514) at non-singleton dimension\n",
    "config_bert = AutoConfig.from_pretrained(MODEL_bert)\n",
    "\n",
    "\n",
    "# PT\n",
    "model_bert = AutoModelForSequenceClassification.from_pretrained(MODEL_bert)\n",
    "model_bert.config.max_position_embeddings = 512"
   ]
  },
  {
   "cell_type": "code",
   "execution_count": 14,
   "id": "63456b7a",
   "metadata": {},
   "outputs": [],
   "source": [
    "def scores_bert(sample_text):\n",
    "    encoded_input_bert = tokenizer_bert(sample_text, return_tensors='pt')\n",
    "    output_bert = model_bert(**encoded_input_bert)\n",
    "    scores_bert = output_bert[0][0].detach().numpy()\n",
    "    scores_bert = softmax(scores_bert) #1st score is negative, 2nd score is netural, 3rd score is positive\n",
    "    return scores_bert"
   ]
  },
  {
   "cell_type": "code",
   "execution_count": 41,
   "id": "d72c1e20",
   "metadata": {},
   "outputs": [],
   "source": [
    "data['text'] = data.text.apply(lambda x: x[1:-1].split())"
   ]
  },
  {
   "cell_type": "code",
   "execution_count": 42,
   "id": "888a51b0",
   "metadata": {},
   "outputs": [
    {
     "data": {
      "text/html": [
       "<div>\n",
       "<style scoped>\n",
       "    .dataframe tbody tr th:only-of-type {\n",
       "        vertical-align: middle;\n",
       "    }\n",
       "\n",
       "    .dataframe tbody tr th {\n",
       "        vertical-align: top;\n",
       "    }\n",
       "\n",
       "    .dataframe thead th {\n",
       "        text-align: right;\n",
       "    }\n",
       "</style>\n",
       "<table border=\"1\" class=\"dataframe\">\n",
       "  <thead>\n",
       "    <tr style=\"text-align: right;\">\n",
       "      <th></th>\n",
       "      <th>Unnamed: 0</th>\n",
       "      <th>datetime</th>\n",
       "      <th>username</th>\n",
       "      <th>text</th>\n",
       "      <th>process_text</th>\n",
       "    </tr>\n",
       "  </thead>\n",
       "  <tbody>\n",
       "    <tr>\n",
       "      <th>0</th>\n",
       "      <td>0</td>\n",
       "      <td>2023-04-03 12:15:20+00:00</td>\n",
       "      <td>saylor</td>\n",
       "      <td>[0.37983057, 0.24003501, 0.38013434]</td>\n",
       "      <td>#Bitcoin is Digital Energy.</td>\n",
       "    </tr>\n",
       "    <tr>\n",
       "      <th>1</th>\n",
       "      <td>1</td>\n",
       "      <td>2023-04-02 12:59:03+00:00</td>\n",
       "      <td>saylor</td>\n",
       "      <td>[0.92297596, 0.03597098, 0.04105297]</td>\n",
       "      <td>The Robots will only take #Bitcoin.</td>\n",
       "    </tr>\n",
       "    <tr>\n",
       "      <th>2</th>\n",
       "      <td>2</td>\n",
       "      <td>2023-04-01 21:59:22+00:00</td>\n",
       "      <td>saylor</td>\n",
       "      <td>[0.03105829, 0.37485844, 0.5940833]</td>\n",
       "      <td>Gen Z Analyst elegantly articulates why #Bitco...</td>\n",
       "    </tr>\n",
       "    <tr>\n",
       "      <th>3</th>\n",
       "      <td>3</td>\n",
       "      <td>2023-04-01 16:45:59+00:00</td>\n",
       "      <td>saylor</td>\n",
       "      <td>[0.10731032, 0.44189024, 0.45079947]</td>\n",
       "      <td>#Bitcoin is the Superior Asset.</td>\n",
       "    </tr>\n",
       "    <tr>\n",
       "      <th>4</th>\n",
       "      <td>4</td>\n",
       "      <td>2023-04-01 12:40:19+00:00</td>\n",
       "      <td>saylor</td>\n",
       "      <td>[0.9573283, 0.01798436, 0.02468747]</td>\n",
       "      <td>Happy #Bitcoin Fools Day.</td>\n",
       "    </tr>\n",
       "    <tr>\n",
       "      <th>...</th>\n",
       "      <td>...</td>\n",
       "      <td>...</td>\n",
       "      <td>...</td>\n",
       "      <td>...</td>\n",
       "      <td>...</td>\n",
       "    </tr>\n",
       "    <tr>\n",
       "      <th>27450</th>\n",
       "      <td>27450</td>\n",
       "      <td>2021-04-30 03:56:27+00:00</td>\n",
       "      <td>RektProof</td>\n",
       "      <td>[0.46553522, 0.43029073, 0.10417402]</td>\n",
       "      <td>$BTC / $USD  2 Different ranges here LTF/HTF  ...</td>\n",
       "    </tr>\n",
       "    <tr>\n",
       "      <th>27451</th>\n",
       "      <td>27451</td>\n",
       "      <td>2021-04-26 15:03:52+00:00</td>\n",
       "      <td>RektProof</td>\n",
       "      <td>[0.04189492, 0.8594566, 0.09864834]</td>\n",
       "      <td>Pretty good start to the year overall.  30R in...</td>\n",
       "    </tr>\n",
       "    <tr>\n",
       "      <th>27452</th>\n",
       "      <td>27452</td>\n",
       "      <td>2021-04-24 06:23:55+00:00</td>\n",
       "      <td>RektProof</td>\n",
       "      <td>[0.9676184, 0.02592494, 0.00645662]</td>\n",
       "      <td>Power of 3  Another Round?  Old low broken and...</td>\n",
       "    </tr>\n",
       "    <tr>\n",
       "      <th>27453</th>\n",
       "      <td>27453</td>\n",
       "      <td>2021-04-19 15:48:27+00:00</td>\n",
       "      <td>RektProof</td>\n",
       "      <td>[0.11949915, 0.7909914, 0.08950952]</td>\n",
       "      <td>$BTC / $USD  Looking for a move into 60-62k th...</td>\n",
       "    </tr>\n",
       "    <tr>\n",
       "      <th>27454</th>\n",
       "      <td>27454</td>\n",
       "      <td>2021-02-10 19:29:23+00:00</td>\n",
       "      <td>RektProof</td>\n",
       "      <td>[0.85441136, 0.06378007, 0.08180851]</td>\n",
       "      <td>#BTC is now in the Top 15 world fiat currencie...</td>\n",
       "    </tr>\n",
       "  </tbody>\n",
       "</table>\n",
       "<p>27455 rows × 5 columns</p>\n",
       "</div>"
      ],
      "text/plain": [
       "       Unnamed: 0                   datetime   username  \\\n",
       "0               0  2023-04-03 12:15:20+00:00     saylor   \n",
       "1               1  2023-04-02 12:59:03+00:00     saylor   \n",
       "2               2  2023-04-01 21:59:22+00:00     saylor   \n",
       "3               3  2023-04-01 16:45:59+00:00     saylor   \n",
       "4               4  2023-04-01 12:40:19+00:00     saylor   \n",
       "...           ...                        ...        ...   \n",
       "27450       27450  2021-04-30 03:56:27+00:00  RektProof   \n",
       "27451       27451  2021-04-26 15:03:52+00:00  RektProof   \n",
       "27452       27452  2021-04-24 06:23:55+00:00  RektProof   \n",
       "27453       27453  2021-04-19 15:48:27+00:00  RektProof   \n",
       "27454       27454  2021-02-10 19:29:23+00:00  RektProof   \n",
       "\n",
       "                                       text  \\\n",
       "0      [0.37983057, 0.24003501, 0.38013434]   \n",
       "1      [0.92297596, 0.03597098, 0.04105297]   \n",
       "2       [0.03105829, 0.37485844, 0.5940833]   \n",
       "3      [0.10731032, 0.44189024, 0.45079947]   \n",
       "4       [0.9573283, 0.01798436, 0.02468747]   \n",
       "...                                     ...   \n",
       "27450  [0.46553522, 0.43029073, 0.10417402]   \n",
       "27451   [0.04189492, 0.8594566, 0.09864834]   \n",
       "27452   [0.9676184, 0.02592494, 0.00645662]   \n",
       "27453   [0.11949915, 0.7909914, 0.08950952]   \n",
       "27454  [0.85441136, 0.06378007, 0.08180851]   \n",
       "\n",
       "                                            process_text  \n",
       "0                           #Bitcoin is Digital Energy.   \n",
       "1                   The Robots will only take #Bitcoin.   \n",
       "2      Gen Z Analyst elegantly articulates why #Bitco...  \n",
       "3                       #Bitcoin is the Superior Asset.   \n",
       "4                             Happy #Bitcoin Fools Day.   \n",
       "...                                                  ...  \n",
       "27450  $BTC / $USD  2 Different ranges here LTF/HTF  ...  \n",
       "27451  Pretty good start to the year overall.  30R in...  \n",
       "27452  Power of 3  Another Round?  Old low broken and...  \n",
       "27453  $BTC / $USD  Looking for a move into 60-62k th...  \n",
       "27454  #BTC is now in the Top 15 world fiat currencie...  \n",
       "\n",
       "[27455 rows x 5 columns]"
      ]
     },
     "execution_count": 42,
     "metadata": {},
     "output_type": "execute_result"
    }
   ],
   "source": [
    "data"
   ]
  },
  {
   "cell_type": "code",
   "execution_count": 21,
   "id": "70a5607d",
   "metadata": {
    "collapsed": true
   },
   "outputs": [
    {
     "name": "stdout",
     "output_type": "stream",
     "text": [
      "6650 to 6652 is going to work!\n",
      "6650 to 6652 has worked!\n",
      "6650 to 6652 saved!\n",
      "6652 to 6654 is going to work!\n",
      "6652 to 6654 has worked!\n",
      "6652 to 6654 saved!\n",
      "6654 to 6656 is going to work!\n",
      "6654 to 6656 has worked!\n",
      "6654 to 6656 saved!\n",
      "6656 to 6658 is going to work!\n",
      "6656 to 6658 has worked!\n",
      "6656 to 6658 saved!\n",
      "6658 to 6660 is going to work!\n",
      "6658 to 6660 has worked!\n",
      "6658 to 6660 saved!\n",
      "6660 to 6662 is going to work!\n",
      "6660 to 6662 has worked!\n",
      "6660 to 6662 saved!\n",
      "6662 to 6664 is going to work!\n",
      "6662 to 6664 has worked!\n",
      "6662 to 6664 saved!\n",
      "6664 to 6666 is going to work!\n",
      "6664 to 6666 has worked!\n",
      "6664 to 6666 saved!\n",
      "6666 to 6668 is going to work!\n",
      "6666 to 6668 has worked!\n",
      "6666 to 6668 saved!\n",
      "6668 to 6670 is going to work!\n",
      "6668 to 6670 has worked!\n",
      "6668 to 6670 saved!\n",
      "6670 to 6672 is going to work!\n",
      "6670 to 6672 has worked!\n",
      "6670 to 6672 saved!\n",
      "6672 to 6674 is going to work!\n",
      "6672 to 6674 has worked!\n",
      "6672 to 6674 saved!\n",
      "6674 to 6676 is going to work!\n",
      "6674 to 6676 has worked!\n",
      "6674 to 6676 saved!\n",
      "6676 to 6678 is going to work!\n",
      "6676 to 6678 has worked!\n",
      "6676 to 6678 saved!\n",
      "6678 to 6680 is going to work!\n",
      "6678 to 6680 has worked!\n",
      "6678 to 6680 saved!\n",
      "6680 to 6682 is going to work!\n",
      "6680 to 6682 has worked!\n",
      "6680 to 6682 saved!\n",
      "6682 to 6684 is going to work!\n",
      "6682 to 6684 has worked!\n",
      "6682 to 6684 saved!\n",
      "6684 to 6686 is going to work!\n",
      "6684 to 6686 has worked!\n",
      "6684 to 6686 saved!\n",
      "6686 to 6688 is going to work!\n",
      "6686 to 6688 has worked!\n",
      "6686 to 6688 saved!\n",
      "6688 to 6690 is going to work!\n",
      "6688 to 6690 has worked!\n",
      "6688 to 6690 saved!\n",
      "6690 to 6692 has not processed correctly\n"
     ]
    },
    {
     "ename": "RuntimeError",
     "evalue": "The expanded size of the tensor (672) must match the existing size (514) at non-singleton dimension 1.  Target sizes: [1, 672].  Tensor sizes: [1, 514]",
     "output_type": "error",
     "traceback": [
      "\u001b[0;31m---------------------------------------------------------------------------\u001b[0m",
      "\u001b[0;31mRuntimeError\u001b[0m                              Traceback (most recent call last)",
      "Cell \u001b[0;32mIn[21], line 13\u001b[0m\n\u001b[1;32m     11\u001b[0m \u001b[38;5;28;01mif\u001b[39;00m working \u001b[38;5;241m==\u001b[39m \u001b[38;5;28;01mTrue\u001b[39;00m:\n\u001b[1;32m     12\u001b[0m     result_csv \u001b[38;5;241m=\u001b[39m pd\u001b[38;5;241m.\u001b[39mDataFrame(data[\u001b[38;5;124m'\u001b[39m\u001b[38;5;124mprocess_text\u001b[39m\u001b[38;5;124m'\u001b[39m][starting_num : ending_num])\n\u001b[0;32m---> 13\u001b[0m     result_csv[\u001b[38;5;124m'\u001b[39m\u001b[38;5;124mtext\u001b[39m\u001b[38;5;124m'\u001b[39m] \u001b[38;5;241m=\u001b[39m \u001b[43mresult_csv\u001b[49m\u001b[43m[\u001b[49m\u001b[38;5;124;43m'\u001b[39;49m\u001b[38;5;124;43mprocess_text\u001b[39;49m\u001b[38;5;124;43m'\u001b[39;49m\u001b[43m]\u001b[49m\u001b[38;5;241;43m.\u001b[39;49m\u001b[43mapply\u001b[49m\u001b[43m(\u001b[49m\u001b[43mscores_bert\u001b[49m\u001b[43m)\u001b[49m\n\u001b[1;32m     14\u001b[0m     \u001b[38;5;28mprint\u001b[39m(\u001b[38;5;124mf\u001b[39m\u001b[38;5;124m'\u001b[39m\u001b[38;5;132;01m{\u001b[39;00mstarting_num\u001b[38;5;132;01m}\u001b[39;00m\u001b[38;5;124m to \u001b[39m\u001b[38;5;132;01m{\u001b[39;00mending_num\u001b[38;5;132;01m}\u001b[39;00m\u001b[38;5;124m has worked!\u001b[39m\u001b[38;5;124m'\u001b[39m)\n\u001b[1;32m     15\u001b[0m     file_name \u001b[38;5;241m=\u001b[39m \u001b[38;5;124mf\u001b[39m\u001b[38;5;124m\"\u001b[39m\u001b[38;5;132;01m{\u001b[39;00mstarting_num\u001b[38;5;132;01m}\u001b[39;00m\u001b[38;5;124m_\u001b[39m\u001b[38;5;132;01m{\u001b[39;00mending_num\u001b[38;5;132;01m}\u001b[39;00m\u001b[38;5;124m_twitter_comments.csv\u001b[39m\u001b[38;5;124m\"\u001b[39m\n",
      "File \u001b[0;32m~/.pyenv/versions/3.10.6/envs/crypto/lib/python3.10/site-packages/pandas/core/series.py:4771\u001b[0m, in \u001b[0;36mSeries.apply\u001b[0;34m(self, func, convert_dtype, args, **kwargs)\u001b[0m\n\u001b[1;32m   4661\u001b[0m \u001b[38;5;28;01mdef\u001b[39;00m \u001b[38;5;21mapply\u001b[39m(\n\u001b[1;32m   4662\u001b[0m     \u001b[38;5;28mself\u001b[39m,\n\u001b[1;32m   4663\u001b[0m     func: AggFuncType,\n\u001b[0;32m   (...)\u001b[0m\n\u001b[1;32m   4666\u001b[0m     \u001b[38;5;241m*\u001b[39m\u001b[38;5;241m*\u001b[39mkwargs,\n\u001b[1;32m   4667\u001b[0m ) \u001b[38;5;241m-\u001b[39m\u001b[38;5;241m>\u001b[39m DataFrame \u001b[38;5;241m|\u001b[39m Series:\n\u001b[1;32m   4668\u001b[0m \u001b[38;5;250m    \u001b[39m\u001b[38;5;124;03m\"\"\"\u001b[39;00m\n\u001b[1;32m   4669\u001b[0m \u001b[38;5;124;03m    Invoke function on values of Series.\u001b[39;00m\n\u001b[1;32m   4670\u001b[0m \n\u001b[0;32m   (...)\u001b[0m\n\u001b[1;32m   4769\u001b[0m \u001b[38;5;124;03m    dtype: float64\u001b[39;00m\n\u001b[1;32m   4770\u001b[0m \u001b[38;5;124;03m    \"\"\"\u001b[39;00m\n\u001b[0;32m-> 4771\u001b[0m     \u001b[38;5;28;01mreturn\u001b[39;00m \u001b[43mSeriesApply\u001b[49m\u001b[43m(\u001b[49m\u001b[38;5;28;43mself\u001b[39;49m\u001b[43m,\u001b[49m\u001b[43m \u001b[49m\u001b[43mfunc\u001b[49m\u001b[43m,\u001b[49m\u001b[43m \u001b[49m\u001b[43mconvert_dtype\u001b[49m\u001b[43m,\u001b[49m\u001b[43m \u001b[49m\u001b[43margs\u001b[49m\u001b[43m,\u001b[49m\u001b[43m \u001b[49m\u001b[43mkwargs\u001b[49m\u001b[43m)\u001b[49m\u001b[38;5;241;43m.\u001b[39;49m\u001b[43mapply\u001b[49m\u001b[43m(\u001b[49m\u001b[43m)\u001b[49m\n",
      "File \u001b[0;32m~/.pyenv/versions/3.10.6/envs/crypto/lib/python3.10/site-packages/pandas/core/apply.py:1123\u001b[0m, in \u001b[0;36mSeriesApply.apply\u001b[0;34m(self)\u001b[0m\n\u001b[1;32m   1120\u001b[0m     \u001b[38;5;28;01mreturn\u001b[39;00m \u001b[38;5;28mself\u001b[39m\u001b[38;5;241m.\u001b[39mapply_str()\n\u001b[1;32m   1122\u001b[0m \u001b[38;5;66;03m# self.f is Callable\u001b[39;00m\n\u001b[0;32m-> 1123\u001b[0m \u001b[38;5;28;01mreturn\u001b[39;00m \u001b[38;5;28;43mself\u001b[39;49m\u001b[38;5;241;43m.\u001b[39;49m\u001b[43mapply_standard\u001b[49m\u001b[43m(\u001b[49m\u001b[43m)\u001b[49m\n",
      "File \u001b[0;32m~/.pyenv/versions/3.10.6/envs/crypto/lib/python3.10/site-packages/pandas/core/apply.py:1174\u001b[0m, in \u001b[0;36mSeriesApply.apply_standard\u001b[0;34m(self)\u001b[0m\n\u001b[1;32m   1172\u001b[0m     \u001b[38;5;28;01melse\u001b[39;00m:\n\u001b[1;32m   1173\u001b[0m         values \u001b[38;5;241m=\u001b[39m obj\u001b[38;5;241m.\u001b[39mastype(\u001b[38;5;28mobject\u001b[39m)\u001b[38;5;241m.\u001b[39m_values\n\u001b[0;32m-> 1174\u001b[0m         mapped \u001b[38;5;241m=\u001b[39m \u001b[43mlib\u001b[49m\u001b[38;5;241;43m.\u001b[39;49m\u001b[43mmap_infer\u001b[49m\u001b[43m(\u001b[49m\n\u001b[1;32m   1175\u001b[0m \u001b[43m            \u001b[49m\u001b[43mvalues\u001b[49m\u001b[43m,\u001b[49m\n\u001b[1;32m   1176\u001b[0m \u001b[43m            \u001b[49m\u001b[43mf\u001b[49m\u001b[43m,\u001b[49m\n\u001b[1;32m   1177\u001b[0m \u001b[43m            \u001b[49m\u001b[43mconvert\u001b[49m\u001b[38;5;241;43m=\u001b[39;49m\u001b[38;5;28;43mself\u001b[39;49m\u001b[38;5;241;43m.\u001b[39;49m\u001b[43mconvert_dtype\u001b[49m\u001b[43m,\u001b[49m\n\u001b[1;32m   1178\u001b[0m \u001b[43m        \u001b[49m\u001b[43m)\u001b[49m\n\u001b[1;32m   1180\u001b[0m \u001b[38;5;28;01mif\u001b[39;00m \u001b[38;5;28mlen\u001b[39m(mapped) \u001b[38;5;129;01mand\u001b[39;00m \u001b[38;5;28misinstance\u001b[39m(mapped[\u001b[38;5;241m0\u001b[39m], ABCSeries):\n\u001b[1;32m   1181\u001b[0m     \u001b[38;5;66;03m# GH#43986 Need to do list(mapped) in order to get treated as nested\u001b[39;00m\n\u001b[1;32m   1182\u001b[0m     \u001b[38;5;66;03m#  See also GH#25959 regarding EA support\u001b[39;00m\n\u001b[1;32m   1183\u001b[0m     \u001b[38;5;28;01mreturn\u001b[39;00m obj\u001b[38;5;241m.\u001b[39m_constructor_expanddim(\u001b[38;5;28mlist\u001b[39m(mapped), index\u001b[38;5;241m=\u001b[39mobj\u001b[38;5;241m.\u001b[39mindex)\n",
      "File \u001b[0;32m~/.pyenv/versions/3.10.6/envs/crypto/lib/python3.10/site-packages/pandas/_libs/lib.pyx:2924\u001b[0m, in \u001b[0;36mpandas._libs.lib.map_infer\u001b[0;34m()\u001b[0m\n",
      "Cell \u001b[0;32mIn[14], line 3\u001b[0m, in \u001b[0;36mscores_bert\u001b[0;34m(sample_text)\u001b[0m\n\u001b[1;32m      1\u001b[0m \u001b[38;5;28;01mdef\u001b[39;00m \u001b[38;5;21mscores_bert\u001b[39m(sample_text):\n\u001b[1;32m      2\u001b[0m     encoded_input_bert \u001b[38;5;241m=\u001b[39m tokenizer_bert(sample_text, return_tensors\u001b[38;5;241m=\u001b[39m\u001b[38;5;124m'\u001b[39m\u001b[38;5;124mpt\u001b[39m\u001b[38;5;124m'\u001b[39m)\n\u001b[0;32m----> 3\u001b[0m     output_bert \u001b[38;5;241m=\u001b[39m \u001b[43mmodel_bert\u001b[49m\u001b[43m(\u001b[49m\u001b[38;5;241;43m*\u001b[39;49m\u001b[38;5;241;43m*\u001b[39;49m\u001b[43mencoded_input_bert\u001b[49m\u001b[43m)\u001b[49m\n\u001b[1;32m      4\u001b[0m     scores_bert \u001b[38;5;241m=\u001b[39m output_bert[\u001b[38;5;241m0\u001b[39m][\u001b[38;5;241m0\u001b[39m]\u001b[38;5;241m.\u001b[39mdetach()\u001b[38;5;241m.\u001b[39mnumpy()\n\u001b[1;32m      5\u001b[0m     scores_bert \u001b[38;5;241m=\u001b[39m softmax(scores_bert) \u001b[38;5;66;03m#1st score is negative, 2nd score is netural, 3rd score is positive\u001b[39;00m\n",
      "File \u001b[0;32m~/.pyenv/versions/3.10.6/envs/crypto/lib/python3.10/site-packages/torch/nn/modules/module.py:1194\u001b[0m, in \u001b[0;36mModule._call_impl\u001b[0;34m(self, *input, **kwargs)\u001b[0m\n\u001b[1;32m   1190\u001b[0m \u001b[38;5;66;03m# If we don't have any hooks, we want to skip the rest of the logic in\u001b[39;00m\n\u001b[1;32m   1191\u001b[0m \u001b[38;5;66;03m# this function, and just call forward.\u001b[39;00m\n\u001b[1;32m   1192\u001b[0m \u001b[38;5;28;01mif\u001b[39;00m \u001b[38;5;129;01mnot\u001b[39;00m (\u001b[38;5;28mself\u001b[39m\u001b[38;5;241m.\u001b[39m_backward_hooks \u001b[38;5;129;01mor\u001b[39;00m \u001b[38;5;28mself\u001b[39m\u001b[38;5;241m.\u001b[39m_forward_hooks \u001b[38;5;129;01mor\u001b[39;00m \u001b[38;5;28mself\u001b[39m\u001b[38;5;241m.\u001b[39m_forward_pre_hooks \u001b[38;5;129;01mor\u001b[39;00m _global_backward_hooks\n\u001b[1;32m   1193\u001b[0m         \u001b[38;5;129;01mor\u001b[39;00m _global_forward_hooks \u001b[38;5;129;01mor\u001b[39;00m _global_forward_pre_hooks):\n\u001b[0;32m-> 1194\u001b[0m     \u001b[38;5;28;01mreturn\u001b[39;00m \u001b[43mforward_call\u001b[49m\u001b[43m(\u001b[49m\u001b[38;5;241;43m*\u001b[39;49m\u001b[38;5;28;43minput\u001b[39;49m\u001b[43m,\u001b[49m\u001b[43m \u001b[49m\u001b[38;5;241;43m*\u001b[39;49m\u001b[38;5;241;43m*\u001b[39;49m\u001b[43mkwargs\u001b[49m\u001b[43m)\u001b[49m\n\u001b[1;32m   1195\u001b[0m \u001b[38;5;66;03m# Do not call functions when jit is used\u001b[39;00m\n\u001b[1;32m   1196\u001b[0m full_backward_hooks, non_full_backward_hooks \u001b[38;5;241m=\u001b[39m [], []\n",
      "File \u001b[0;32m~/.pyenv/versions/3.10.6/envs/crypto/lib/python3.10/site-packages/transformers/models/roberta/modeling_roberta.py:1211\u001b[0m, in \u001b[0;36mRobertaForSequenceClassification.forward\u001b[0;34m(self, input_ids, attention_mask, token_type_ids, position_ids, head_mask, inputs_embeds, labels, output_attentions, output_hidden_states, return_dict)\u001b[0m\n\u001b[1;32m   1203\u001b[0m \u001b[38;5;250m\u001b[39m\u001b[38;5;124mr\u001b[39m\u001b[38;5;124;03m\"\"\"\u001b[39;00m\n\u001b[1;32m   1204\u001b[0m \u001b[38;5;124;03mlabels (`torch.LongTensor` of shape `(batch_size,)`, *optional*):\u001b[39;00m\n\u001b[1;32m   1205\u001b[0m \u001b[38;5;124;03m    Labels for computing the sequence classification/regression loss. Indices should be in `[0, ...,\u001b[39;00m\n\u001b[1;32m   1206\u001b[0m \u001b[38;5;124;03m    config.num_labels - 1]`. If `config.num_labels == 1` a regression loss is computed (Mean-Square loss), If\u001b[39;00m\n\u001b[1;32m   1207\u001b[0m \u001b[38;5;124;03m    `config.num_labels > 1` a classification loss is computed (Cross-Entropy).\u001b[39;00m\n\u001b[1;32m   1208\u001b[0m \u001b[38;5;124;03m\"\"\"\u001b[39;00m\n\u001b[1;32m   1209\u001b[0m return_dict \u001b[38;5;241m=\u001b[39m return_dict \u001b[38;5;28;01mif\u001b[39;00m return_dict \u001b[38;5;129;01mis\u001b[39;00m \u001b[38;5;129;01mnot\u001b[39;00m \u001b[38;5;28;01mNone\u001b[39;00m \u001b[38;5;28;01melse\u001b[39;00m \u001b[38;5;28mself\u001b[39m\u001b[38;5;241m.\u001b[39mconfig\u001b[38;5;241m.\u001b[39muse_return_dict\n\u001b[0;32m-> 1211\u001b[0m outputs \u001b[38;5;241m=\u001b[39m \u001b[38;5;28;43mself\u001b[39;49m\u001b[38;5;241;43m.\u001b[39;49m\u001b[43mroberta\u001b[49m\u001b[43m(\u001b[49m\n\u001b[1;32m   1212\u001b[0m \u001b[43m    \u001b[49m\u001b[43minput_ids\u001b[49m\u001b[43m,\u001b[49m\n\u001b[1;32m   1213\u001b[0m \u001b[43m    \u001b[49m\u001b[43mattention_mask\u001b[49m\u001b[38;5;241;43m=\u001b[39;49m\u001b[43mattention_mask\u001b[49m\u001b[43m,\u001b[49m\n\u001b[1;32m   1214\u001b[0m \u001b[43m    \u001b[49m\u001b[43mtoken_type_ids\u001b[49m\u001b[38;5;241;43m=\u001b[39;49m\u001b[43mtoken_type_ids\u001b[49m\u001b[43m,\u001b[49m\n\u001b[1;32m   1215\u001b[0m \u001b[43m    \u001b[49m\u001b[43mposition_ids\u001b[49m\u001b[38;5;241;43m=\u001b[39;49m\u001b[43mposition_ids\u001b[49m\u001b[43m,\u001b[49m\n\u001b[1;32m   1216\u001b[0m \u001b[43m    \u001b[49m\u001b[43mhead_mask\u001b[49m\u001b[38;5;241;43m=\u001b[39;49m\u001b[43mhead_mask\u001b[49m\u001b[43m,\u001b[49m\n\u001b[1;32m   1217\u001b[0m \u001b[43m    \u001b[49m\u001b[43minputs_embeds\u001b[49m\u001b[38;5;241;43m=\u001b[39;49m\u001b[43minputs_embeds\u001b[49m\u001b[43m,\u001b[49m\n\u001b[1;32m   1218\u001b[0m \u001b[43m    \u001b[49m\u001b[43moutput_attentions\u001b[49m\u001b[38;5;241;43m=\u001b[39;49m\u001b[43moutput_attentions\u001b[49m\u001b[43m,\u001b[49m\n\u001b[1;32m   1219\u001b[0m \u001b[43m    \u001b[49m\u001b[43moutput_hidden_states\u001b[49m\u001b[38;5;241;43m=\u001b[39;49m\u001b[43moutput_hidden_states\u001b[49m\u001b[43m,\u001b[49m\n\u001b[1;32m   1220\u001b[0m \u001b[43m    \u001b[49m\u001b[43mreturn_dict\u001b[49m\u001b[38;5;241;43m=\u001b[39;49m\u001b[43mreturn_dict\u001b[49m\u001b[43m,\u001b[49m\n\u001b[1;32m   1221\u001b[0m \u001b[43m\u001b[49m\u001b[43m)\u001b[49m\n\u001b[1;32m   1222\u001b[0m sequence_output \u001b[38;5;241m=\u001b[39m outputs[\u001b[38;5;241m0\u001b[39m]\n\u001b[1;32m   1223\u001b[0m logits \u001b[38;5;241m=\u001b[39m \u001b[38;5;28mself\u001b[39m\u001b[38;5;241m.\u001b[39mclassifier(sequence_output)\n",
      "File \u001b[0;32m~/.pyenv/versions/3.10.6/envs/crypto/lib/python3.10/site-packages/torch/nn/modules/module.py:1194\u001b[0m, in \u001b[0;36mModule._call_impl\u001b[0;34m(self, *input, **kwargs)\u001b[0m\n\u001b[1;32m   1190\u001b[0m \u001b[38;5;66;03m# If we don't have any hooks, we want to skip the rest of the logic in\u001b[39;00m\n\u001b[1;32m   1191\u001b[0m \u001b[38;5;66;03m# this function, and just call forward.\u001b[39;00m\n\u001b[1;32m   1192\u001b[0m \u001b[38;5;28;01mif\u001b[39;00m \u001b[38;5;129;01mnot\u001b[39;00m (\u001b[38;5;28mself\u001b[39m\u001b[38;5;241m.\u001b[39m_backward_hooks \u001b[38;5;129;01mor\u001b[39;00m \u001b[38;5;28mself\u001b[39m\u001b[38;5;241m.\u001b[39m_forward_hooks \u001b[38;5;129;01mor\u001b[39;00m \u001b[38;5;28mself\u001b[39m\u001b[38;5;241m.\u001b[39m_forward_pre_hooks \u001b[38;5;129;01mor\u001b[39;00m _global_backward_hooks\n\u001b[1;32m   1193\u001b[0m         \u001b[38;5;129;01mor\u001b[39;00m _global_forward_hooks \u001b[38;5;129;01mor\u001b[39;00m _global_forward_pre_hooks):\n\u001b[0;32m-> 1194\u001b[0m     \u001b[38;5;28;01mreturn\u001b[39;00m \u001b[43mforward_call\u001b[49m\u001b[43m(\u001b[49m\u001b[38;5;241;43m*\u001b[39;49m\u001b[38;5;28;43minput\u001b[39;49m\u001b[43m,\u001b[49m\u001b[43m \u001b[49m\u001b[38;5;241;43m*\u001b[39;49m\u001b[38;5;241;43m*\u001b[39;49m\u001b[43mkwargs\u001b[49m\u001b[43m)\u001b[49m\n\u001b[1;32m   1195\u001b[0m \u001b[38;5;66;03m# Do not call functions when jit is used\u001b[39;00m\n\u001b[1;32m   1196\u001b[0m full_backward_hooks, non_full_backward_hooks \u001b[38;5;241m=\u001b[39m [], []\n",
      "File \u001b[0;32m~/.pyenv/versions/3.10.6/envs/crypto/lib/python3.10/site-packages/transformers/models/roberta/modeling_roberta.py:817\u001b[0m, in \u001b[0;36mRobertaModel.forward\u001b[0;34m(self, input_ids, attention_mask, token_type_ids, position_ids, head_mask, inputs_embeds, encoder_hidden_states, encoder_attention_mask, past_key_values, use_cache, output_attentions, output_hidden_states, return_dict)\u001b[0m\n\u001b[1;32m    815\u001b[0m \u001b[38;5;28;01mif\u001b[39;00m \u001b[38;5;28mhasattr\u001b[39m(\u001b[38;5;28mself\u001b[39m\u001b[38;5;241m.\u001b[39membeddings, \u001b[38;5;124m\"\u001b[39m\u001b[38;5;124mtoken_type_ids\u001b[39m\u001b[38;5;124m\"\u001b[39m):\n\u001b[1;32m    816\u001b[0m     buffered_token_type_ids \u001b[38;5;241m=\u001b[39m \u001b[38;5;28mself\u001b[39m\u001b[38;5;241m.\u001b[39membeddings\u001b[38;5;241m.\u001b[39mtoken_type_ids[:, :seq_length]\n\u001b[0;32m--> 817\u001b[0m     buffered_token_type_ids_expanded \u001b[38;5;241m=\u001b[39m \u001b[43mbuffered_token_type_ids\u001b[49m\u001b[38;5;241;43m.\u001b[39;49m\u001b[43mexpand\u001b[49m\u001b[43m(\u001b[49m\u001b[43mbatch_size\u001b[49m\u001b[43m,\u001b[49m\u001b[43m \u001b[49m\u001b[43mseq_length\u001b[49m\u001b[43m)\u001b[49m\n\u001b[1;32m    818\u001b[0m     token_type_ids \u001b[38;5;241m=\u001b[39m buffered_token_type_ids_expanded\n\u001b[1;32m    819\u001b[0m \u001b[38;5;28;01melse\u001b[39;00m:\n",
      "\u001b[0;31mRuntimeError\u001b[0m: The expanded size of the tensor (672) must match the existing size (514) at non-singleton dimension 1.  Target sizes: [1, 672].  Tensor sizes: [1, 514]"
     ]
    }
   ],
   "source": [
    "starting_num = 6650\n",
    "ending_num = 6652\n",
    "\n",
    "for i in range(25):\n",
    "    try:\n",
    "        data['process_text'][starting_num : ending_num].apply(scores_bert)\n",
    "        print(f'{starting_num} to {ending_num} is going to work!')\n",
    "        working = True\n",
    "    except:\n",
    "        print(f'{starting_num} to {ending_num} has not processed correctly')\n",
    "    if working == True:\n",
    "        result_csv = pd.DataFrame(data['process_text'][starting_num : ending_num])\n",
    "        result_csv['text'] = result_csv['process_text'].apply(scores_bert)\n",
    "        print(f'{starting_num} to {ending_num} has worked!')\n",
    "        file_name = f\"{starting_num}_{ending_num}_twitter_comments.csv\"\n",
    "        result_csv.to_csv(f\"~/code/giadapi/crypto/data/processed/{file_name}\")\n",
    "        print(f'{starting_num} to {ending_num} saved!')\n",
    "    starting_num += 2\n",
    "    ending_num += 2"
   ]
  },
  {
   "cell_type": "code",
   "execution_count": 43,
   "id": "35e451df",
   "metadata": {},
   "outputs": [
    {
     "name": "stderr",
     "output_type": "stream",
     "text": [
      "/tmp/ipykernel_9079/3575573221.py:5: SettingWithCopyWarning: \n",
      "A value is trying to be set on a copy of a slice from a DataFrame\n",
      "\n",
      "See the caveats in the documentation: https://pandas.pydata.org/pandas-docs/stable/user_guide/indexing.html#returning-a-view-versus-a-copy\n",
      "  data['negative_bert'][i] = data['text'][i][0]\n",
      "/tmp/ipykernel_9079/3575573221.py:6: SettingWithCopyWarning: \n",
      "A value is trying to be set on a copy of a slice from a DataFrame\n",
      "\n",
      "See the caveats in the documentation: https://pandas.pydata.org/pandas-docs/stable/user_guide/indexing.html#returning-a-view-versus-a-copy\n",
      "  data['neutral_bert'][i] = data['text'][i][1]\n",
      "/tmp/ipykernel_9079/3575573221.py:7: SettingWithCopyWarning: \n",
      "A value is trying to be set on a copy of a slice from a DataFrame\n",
      "\n",
      "See the caveats in the documentation: https://pandas.pydata.org/pandas-docs/stable/user_guide/indexing.html#returning-a-view-versus-a-copy\n",
      "  data['positive_bert'][i] = data['text'][i][2]\n"
     ]
    }
   ],
   "source": [
    "data['negative_bert'] = data.text\n",
    "data['neutral_bert'] = data.text\n",
    "data['positive_bert'] = data.text\n",
    "for i in range(len(data)):    \n",
    "    data['negative_bert'][i] = data['text'][i][0]\n",
    "    data['neutral_bert'][i] = data['text'][i][1]\n",
    "    data['positive_bert'][i] = data['text'][i][2]"
   ]
  },
  {
   "cell_type": "code",
   "execution_count": 44,
   "id": "85921495",
   "metadata": {},
   "outputs": [],
   "source": [
    "data = data[['datetime','username', 'process_text', 'negative_bert', 'neutral_bert','positive_bert']]"
   ]
  },
  {
   "cell_type": "code",
   "execution_count": 49,
   "id": "50d4b8fa",
   "metadata": {},
   "outputs": [
    {
     "name": "stderr",
     "output_type": "stream",
     "text": [
      "/tmp/ipykernel_9079/2412623082.py:1: SettingWithCopyWarning: \n",
      "A value is trying to be set on a copy of a slice from a DataFrame.\n",
      "Try using .loc[row_indexer,col_indexer] = value instead\n",
      "\n",
      "See the caveats in the documentation: https://pandas.pydata.org/pandas-docs/stable/user_guide/indexing.html#returning-a-view-versus-a-copy\n",
      "  data['datetime'] = pd.to_datetime(data['datetime'])\n"
     ]
    }
   ],
   "source": [
    "data['datetime'] = pd.to_datetime(data['datetime'])"
   ]
  },
  {
   "cell_type": "code",
   "execution_count": 47,
   "id": "d7016bf4",
   "metadata": {},
   "outputs": [],
   "source": [
    "data.to_csv('../data/processed_data/processed_experts_tweets_with_sentiment.csv')"
   ]
  },
  {
   "cell_type": "markdown",
   "id": "a164c5fd",
   "metadata": {},
   "source": [
    "## Step 4: Count the total number of labels/scores (positive, negative vs neutral) by date"
   ]
  },
  {
   "cell_type": "code",
   "execution_count": 54,
   "id": "98cee878",
   "metadata": {},
   "outputs": [
    {
     "data": {
      "text/plain": [
       "datetime.date(2023, 4, 3)"
      ]
     },
     "execution_count": 54,
     "metadata": {},
     "output_type": "execute_result"
    }
   ],
   "source": [
    "data['datetime'][0].date()"
   ]
  },
  {
   "cell_type": "code",
   "execution_count": 57,
   "id": "57fc935c",
   "metadata": {},
   "outputs": [
    {
     "name": "stderr",
     "output_type": "stream",
     "text": [
      "/tmp/ipykernel_9079/305214932.py:1: SettingWithCopyWarning: \n",
      "A value is trying to be set on a copy of a slice from a DataFrame.\n",
      "Try using .loc[row_indexer,col_indexer] = value instead\n",
      "\n",
      "See the caveats in the documentation: https://pandas.pydata.org/pandas-docs/stable/user_guide/indexing.html#returning-a-view-versus-a-copy\n",
      "  data['date'] = data['datetime'].apply(lambda x: x.date())\n"
     ]
    }
   ],
   "source": [
    "data['date'] = data['datetime'].apply(lambda x: x.date())"
   ]
  },
  {
   "cell_type": "code",
   "execution_count": 64,
   "id": "36a8651f",
   "metadata": {
    "collapsed": true
   },
   "outputs": [
    {
     "name": "stderr",
     "output_type": "stream",
     "text": [
      "/tmp/ipykernel_9079/2042200083.py:1: SettingWithCopyWarning: \n",
      "A value is trying to be set on a copy of a slice from a DataFrame.\n",
      "Try using .loc[row_indexer,col_indexer] = value instead\n",
      "\n",
      "See the caveats in the documentation: https://pandas.pydata.org/pandas-docs/stable/user_guide/indexing.html#returning-a-view-versus-a-copy\n",
      "  data['negative_bert'] = data['negative_bert'].astype(float)\n",
      "/tmp/ipykernel_9079/2042200083.py:2: SettingWithCopyWarning: \n",
      "A value is trying to be set on a copy of a slice from a DataFrame.\n",
      "Try using .loc[row_indexer,col_indexer] = value instead\n",
      "\n",
      "See the caveats in the documentation: https://pandas.pydata.org/pandas-docs/stable/user_guide/indexing.html#returning-a-view-versus-a-copy\n",
      "  data['neutral_bert']= data['neutral_bert'].astype(float)\n",
      "/tmp/ipykernel_9079/2042200083.py:3: SettingWithCopyWarning: \n",
      "A value is trying to be set on a copy of a slice from a DataFrame.\n",
      "Try using .loc[row_indexer,col_indexer] = value instead\n",
      "\n",
      "See the caveats in the documentation: https://pandas.pydata.org/pandas-docs/stable/user_guide/indexing.html#returning-a-view-versus-a-copy\n",
      "  data['positive_bert']= data['positive_bert'].astype(float)\n"
     ]
    }
   ],
   "source": [
    "data['negative_bert'] = data['negative_bert'].astype(float)\n",
    "data['neutral_bert']= data['neutral_bert'].astype(float)\n",
    "data['positive_bert']= data['positive_bert'].astype(float)"
   ]
  },
  {
   "cell_type": "code",
   "execution_count": 66,
   "id": "04d67cba",
   "metadata": {},
   "outputs": [],
   "source": [
    "grouped_data = pd.DataFrame(data.groupby(['date'])[['negative_bert', 'neutral_bert', 'positive_bert']].sum().fillna(0).reset_index())\n",
    "grouped_data = grouped_data.rename_axis(\"\", axis=\"columns\")"
   ]
  },
  {
   "cell_type": "code",
   "execution_count": 70,
   "id": "b2c4ddab",
   "metadata": {},
   "outputs": [],
   "source": [
    "grouped_data['quantity'] = grouped_data['neutral_bert'] + grouped_data['positive_bert'] + grouped_data['negative_bert']"
   ]
  },
  {
   "cell_type": "code",
   "execution_count": 74,
   "id": "2f1d13fc",
   "metadata": {},
   "outputs": [],
   "source": [
    "grouped_data.to_csv('../data/processed_data/processed_experts_tweets_grouped.csv')\n",
    "data.to_csv('../data/processed_data/processed_experts_tweets_with_sentiment.csv')"
   ]
  },
  {
   "cell_type": "code",
   "execution_count": 81,
   "id": "5209de5c",
   "metadata": {},
   "outputs": [],
   "source": [
    "usernames = data['username'].value_counts()"
   ]
  },
  {
   "cell_type": "code",
   "execution_count": 87,
   "id": "f9dde440",
   "metadata": {},
   "outputs": [],
   "source": [
    "usernames= usernames.reset_index()"
   ]
  },
  {
   "cell_type": "code",
   "execution_count": 107,
   "id": "33f4e785",
   "metadata": {},
   "outputs": [],
   "source": [
    "usernames\n",
    "mask = usernames['username']>250\n",
    "club_250 = usernames[mask]"
   ]
  },
  {
   "cell_type": "code",
   "execution_count": 101,
   "id": "8b7b2dbf",
   "metadata": {},
   "outputs": [],
   "source": [
    "club_250 = club_250['index'].unique()"
   ]
  },
  {
   "cell_type": "code",
   "execution_count": 108,
   "id": "ac7a72e3",
   "metadata": {},
   "outputs": [
    {
     "data": {
      "text/html": [
       "<div>\n",
       "<style scoped>\n",
       "    .dataframe tbody tr th:only-of-type {\n",
       "        vertical-align: middle;\n",
       "    }\n",
       "\n",
       "    .dataframe tbody tr th {\n",
       "        vertical-align: top;\n",
       "    }\n",
       "\n",
       "    .dataframe thead th {\n",
       "        text-align: right;\n",
       "    }\n",
       "</style>\n",
       "<table border=\"1\" class=\"dataframe\">\n",
       "  <thead>\n",
       "    <tr style=\"text-align: right;\">\n",
       "      <th></th>\n",
       "      <th>index</th>\n",
       "      <th>username</th>\n",
       "    </tr>\n",
       "  </thead>\n",
       "  <tbody>\n",
       "    <tr>\n",
       "      <th>0</th>\n",
       "      <td>udiWertheimer</td>\n",
       "      <td>3987</td>\n",
       "    </tr>\n",
       "    <tr>\n",
       "      <th>1</th>\n",
       "      <td>PeterMcCormack</td>\n",
       "      <td>2453</td>\n",
       "    </tr>\n",
       "    <tr>\n",
       "      <th>2</th>\n",
       "      <td>saylor</td>\n",
       "      <td>1988</td>\n",
       "    </tr>\n",
       "    <tr>\n",
       "      <th>3</th>\n",
       "      <td>scottmelker</td>\n",
       "      <td>1978</td>\n",
       "    </tr>\n",
       "    <tr>\n",
       "      <th>4</th>\n",
       "      <td>CryptoKaleo</td>\n",
       "      <td>1249</td>\n",
       "    </tr>\n",
       "    <tr>\n",
       "      <th>5</th>\n",
       "      <td>notsofast</td>\n",
       "      <td>1032</td>\n",
       "    </tr>\n",
       "    <tr>\n",
       "      <th>6</th>\n",
       "      <td>100trillionUSD</td>\n",
       "      <td>756</td>\n",
       "    </tr>\n",
       "    <tr>\n",
       "      <th>7</th>\n",
       "      <td>jebus911</td>\n",
       "      <td>708</td>\n",
       "    </tr>\n",
       "    <tr>\n",
       "      <th>8</th>\n",
       "      <td>mattomattik</td>\n",
       "      <td>654</td>\n",
       "    </tr>\n",
       "    <tr>\n",
       "      <th>9</th>\n",
       "      <td>CryptoWendyO</td>\n",
       "      <td>652</td>\n",
       "    </tr>\n",
       "    <tr>\n",
       "      <th>10</th>\n",
       "      <td>Tradermayne</td>\n",
       "      <td>535</td>\n",
       "    </tr>\n",
       "    <tr>\n",
       "      <th>11</th>\n",
       "      <td>Trader_XO</td>\n",
       "      <td>486</td>\n",
       "    </tr>\n",
       "    <tr>\n",
       "      <th>12</th>\n",
       "      <td>bitcoinpanda69</td>\n",
       "      <td>473</td>\n",
       "    </tr>\n",
       "    <tr>\n",
       "      <th>13</th>\n",
       "      <td>CanteringClark</td>\n",
       "      <td>435</td>\n",
       "    </tr>\n",
       "    <tr>\n",
       "      <th>14</th>\n",
       "      <td>Anbessa100</td>\n",
       "      <td>422</td>\n",
       "    </tr>\n",
       "    <tr>\n",
       "      <th>15</th>\n",
       "      <td>Crypto_Chase</td>\n",
       "      <td>419</td>\n",
       "    </tr>\n",
       "    <tr>\n",
       "      <th>16</th>\n",
       "      <td>hasufl</td>\n",
       "      <td>418</td>\n",
       "    </tr>\n",
       "    <tr>\n",
       "      <th>17</th>\n",
       "      <td>mattysino</td>\n",
       "      <td>416</td>\n",
       "    </tr>\n",
       "    <tr>\n",
       "      <th>18</th>\n",
       "      <td>basedkarbon</td>\n",
       "      <td>415</td>\n",
       "    </tr>\n",
       "    <tr>\n",
       "      <th>19</th>\n",
       "      <td>TraderKoz</td>\n",
       "      <td>406</td>\n",
       "    </tr>\n",
       "    <tr>\n",
       "      <th>20</th>\n",
       "      <td>trader1sz</td>\n",
       "      <td>367</td>\n",
       "    </tr>\n",
       "    <tr>\n",
       "      <th>21</th>\n",
       "      <td>RookieXBT</td>\n",
       "      <td>322</td>\n",
       "    </tr>\n",
       "    <tr>\n",
       "      <th>22</th>\n",
       "      <td>219_eth</td>\n",
       "      <td>303</td>\n",
       "    </tr>\n",
       "    <tr>\n",
       "      <th>23</th>\n",
       "      <td>crypto_bitlord7</td>\n",
       "      <td>295</td>\n",
       "    </tr>\n",
       "    <tr>\n",
       "      <th>24</th>\n",
       "      <td>TheCryptoDog</td>\n",
       "      <td>284</td>\n",
       "    </tr>\n",
       "    <tr>\n",
       "      <th>25</th>\n",
       "      <td>RektProof</td>\n",
       "      <td>278</td>\n",
       "    </tr>\n",
       "    <tr>\n",
       "      <th>26</th>\n",
       "      <td>kerneltrader</td>\n",
       "      <td>264</td>\n",
       "    </tr>\n",
       "    <tr>\n",
       "      <th>27</th>\n",
       "      <td>icebergy_</td>\n",
       "      <td>263</td>\n",
       "    </tr>\n",
       "  </tbody>\n",
       "</table>\n",
       "</div>"
      ],
      "text/plain": [
       "              index  username\n",
       "0     udiWertheimer      3987\n",
       "1    PeterMcCormack      2453\n",
       "2            saylor      1988\n",
       "3       scottmelker      1978\n",
       "4       CryptoKaleo      1249\n",
       "5         notsofast      1032\n",
       "6    100trillionUSD       756\n",
       "7          jebus911       708\n",
       "8       mattomattik       654\n",
       "9      CryptoWendyO       652\n",
       "10      Tradermayne       535\n",
       "11        Trader_XO       486\n",
       "12   bitcoinpanda69       473\n",
       "13   CanteringClark       435\n",
       "14       Anbessa100       422\n",
       "15     Crypto_Chase       419\n",
       "16           hasufl       418\n",
       "17        mattysino       416\n",
       "18      basedkarbon       415\n",
       "19        TraderKoz       406\n",
       "20        trader1sz       367\n",
       "21        RookieXBT       322\n",
       "22          219_eth       303\n",
       "23  crypto_bitlord7       295\n",
       "24     TheCryptoDog       284\n",
       "25        RektProof       278\n",
       "26     kerneltrader       264\n",
       "27        icebergy_       263"
      ]
     },
     "execution_count": 108,
     "metadata": {},
     "output_type": "execute_result"
    }
   ],
   "source": [
    "club_250"
   ]
  },
  {
   "cell_type": "code",
   "execution_count": 109,
   "id": "d22fb80e",
   "metadata": {},
   "outputs": [],
   "source": [
    "club_250.to_csv('../data/processed_data/users_over_250_tweets.csv')"
   ]
  },
  {
   "cell_type": "markdown",
   "id": "41232498",
   "metadata": {},
   "source": [
    "## Step 5 - Download the data"
   ]
  },
  {
   "cell_type": "code",
   "execution_count": 209,
   "id": "43f8d86a",
   "metadata": {},
   "outputs": [
    {
     "data": {
      "text/plain": [
       "'2021-12-01'"
      ]
     },
     "execution_count": 209,
     "metadata": {},
     "output_type": "execute_result"
    }
   ],
   "source": [
    "start_date = grouped_data['date'][0]\n",
    "# start_date_str = datetime.datetime.strftime(start_date, \"%Y-%m-%d\")\n",
    "start_date"
   ]
  },
  {
   "cell_type": "code",
   "execution_count": 210,
   "id": "a2154ff9",
   "metadata": {},
   "outputs": [
    {
     "data": {
      "text/plain": [
       "'2021-12-31'"
      ]
     },
     "execution_count": 210,
     "metadata": {},
     "output_type": "execute_result"
    }
   ],
   "source": [
    "end_date = grouped_data['date'][len(grouped_data)-1]\n",
    "# end_date_str = datetime.datetime.strftime(end_date, \"%Y-%m-%d\")\n",
    "end_date"
   ]
  },
  {
   "cell_type": "code",
   "execution_count": 211,
   "id": "df93ef88",
   "metadata": {},
   "outputs": [],
   "source": [
    "file_name = f\"{start_date}_{end_date}_twitter_comments.csv\"\n",
    "data.to_csv(f\"~/code/giadapi/crypto/data/processed/{file_name}\")"
   ]
  },
  {
   "cell_type": "code",
   "execution_count": 212,
   "id": "26fe0d78",
   "metadata": {},
   "outputs": [],
   "source": [
    "file_name = f\"{start_date}_{end_date}_twitter_transferlearning.csv\"\n",
    "grouped_data.to_csv(f\"~/code/giadapi/crypto/data/processed/{file_name}\")"
   ]
  },
  {
   "cell_type": "code",
   "execution_count": null,
   "id": "22ce1e52",
   "metadata": {},
   "outputs": [],
   "source": []
  },
  {
   "cell_type": "code",
   "execution_count": 84,
   "id": "f853c0e3",
   "metadata": {},
   "outputs": [
    {
     "data": {
      "text/html": [
       "<div>\n",
       "<style scoped>\n",
       "    .dataframe tbody tr th:only-of-type {\n",
       "        vertical-align: middle;\n",
       "    }\n",
       "\n",
       "    .dataframe tbody tr th {\n",
       "        vertical-align: top;\n",
       "    }\n",
       "\n",
       "    .dataframe thead th {\n",
       "        text-align: right;\n",
       "    }\n",
       "</style>\n",
       "<table border=\"1\" class=\"dataframe\">\n",
       "  <thead>\n",
       "    <tr style=\"text-align: right;\">\n",
       "      <th></th>\n",
       "      <th>Unnamed: 0</th>\n",
       "      <th>datetime</th>\n",
       "      <th>username</th>\n",
       "      <th>text</th>\n",
       "      <th>has_#bitcoin</th>\n",
       "      <th>date</th>\n",
       "    </tr>\n",
       "  </thead>\n",
       "  <tbody>\n",
       "    <tr>\n",
       "      <th>0</th>\n",
       "      <td>14003</td>\n",
       "      <td>2021-02-01 22:09:58+00:00</td>\n",
       "      <td>mferreira680</td>\n",
       "      <td>Wohhhh is great!!!!!  \\nPls give some suvenir ...</td>\n",
       "      <td>True</td>\n",
       "      <td>2021-02-01</td>\n",
       "    </tr>\n",
       "    <tr>\n",
       "      <th>1</th>\n",
       "      <td>14004</td>\n",
       "      <td>2021-02-01 22:09:33+00:00</td>\n",
       "      <td>mbs_FiTTrader</td>\n",
       "      <td>Well @elonmusk made a joke about #dodgecoin an...</td>\n",
       "      <td>True</td>\n",
       "      <td>2021-02-01</td>\n",
       "    </tr>\n",
       "    <tr>\n",
       "      <th>2</th>\n",
       "      <td>14005</td>\n",
       "      <td>2021-02-01 22:09:32+00:00</td>\n",
       "      <td>oneredwanonly</td>\n",
       "      <td>It's about inequality and unfair markets. Taxe...</td>\n",
       "      <td>True</td>\n",
       "      <td>2021-02-01</td>\n",
       "    </tr>\n",
       "    <tr>\n",
       "      <th>3</th>\n",
       "      <td>14006</td>\n",
       "      <td>2021-02-01 22:09:26+00:00</td>\n",
       "      <td>bmurphypointman</td>\n",
       "      <td>#affiliatemarketing #affiliate #travel #touris...</td>\n",
       "      <td>True</td>\n",
       "      <td>2021-02-01</td>\n",
       "    </tr>\n",
       "    <tr>\n",
       "      <th>4</th>\n",
       "      <td>14007</td>\n",
       "      <td>2021-02-01 22:09:25+00:00</td>\n",
       "      <td>bmurphypointman</td>\n",
       "      <td>#tumblr #twitter #gifting #facebook #instagram...</td>\n",
       "      <td>True</td>\n",
       "      <td>2021-02-01</td>\n",
       "    </tr>\n",
       "    <tr>\n",
       "      <th>...</th>\n",
       "      <td>...</td>\n",
       "      <td>...</td>\n",
       "      <td>...</td>\n",
       "      <td>...</td>\n",
       "      <td>...</td>\n",
       "      <td>...</td>\n",
       "    </tr>\n",
       "    <tr>\n",
       "      <th>16214</th>\n",
       "      <td>30217</td>\n",
       "      <td>2021-02-28 06:00:00+00:00</td>\n",
       "      <td>tulipan81</td>\n",
       "      <td>Bitcoin mined blocks distribution per pool in ...</td>\n",
       "      <td>True</td>\n",
       "      <td>2021-02-28</td>\n",
       "    </tr>\n",
       "    <tr>\n",
       "      <th>16215</th>\n",
       "      <td>30218</td>\n",
       "      <td>2021-02-28 06:00:00+00:00</td>\n",
       "      <td>tulipan81</td>\n",
       "      <td>Bitcoin free space in mined blocks in last wee...</td>\n",
       "      <td>True</td>\n",
       "      <td>2021-02-28</td>\n",
       "    </tr>\n",
       "    <tr>\n",
       "      <th>16216</th>\n",
       "      <td>30219</td>\n",
       "      <td>2021-02-28 06:00:00+00:00</td>\n",
       "      <td>tulipan81</td>\n",
       "      <td>Bitcoin free space in mined blocks in last day...</td>\n",
       "      <td>True</td>\n",
       "      <td>2021-02-28</td>\n",
       "    </tr>\n",
       "    <tr>\n",
       "      <th>16217</th>\n",
       "      <td>30220</td>\n",
       "      <td>2021-02-28 06:00:00+00:00</td>\n",
       "      <td>tulipan81</td>\n",
       "      <td>Bitcoin mined blocks distribution per pool in ...</td>\n",
       "      <td>True</td>\n",
       "      <td>2021-02-28</td>\n",
       "    </tr>\n",
       "    <tr>\n",
       "      <th>16218</th>\n",
       "      <td>30221</td>\n",
       "      <td>2021-02-28 06:00:00+00:00</td>\n",
       "      <td>tulipan81</td>\n",
       "      <td>Bitcoin mined blocks distribution per pool in ...</td>\n",
       "      <td>True</td>\n",
       "      <td>2021-02-28</td>\n",
       "    </tr>\n",
       "  </tbody>\n",
       "</table>\n",
       "<p>16219 rows × 6 columns</p>\n",
       "</div>"
      ],
      "text/plain": [
       "       Unnamed: 0                   datetime         username  \\\n",
       "0           14003  2021-02-01 22:09:58+00:00     mferreira680   \n",
       "1           14004  2021-02-01 22:09:33+00:00    mbs_FiTTrader   \n",
       "2           14005  2021-02-01 22:09:32+00:00    oneredwanonly   \n",
       "3           14006  2021-02-01 22:09:26+00:00  bmurphypointman   \n",
       "4           14007  2021-02-01 22:09:25+00:00  bmurphypointman   \n",
       "...           ...                        ...              ...   \n",
       "16214       30217  2021-02-28 06:00:00+00:00        tulipan81   \n",
       "16215       30218  2021-02-28 06:00:00+00:00        tulipan81   \n",
       "16216       30219  2021-02-28 06:00:00+00:00        tulipan81   \n",
       "16217       30220  2021-02-28 06:00:00+00:00        tulipan81   \n",
       "16218       30221  2021-02-28 06:00:00+00:00        tulipan81   \n",
       "\n",
       "                                                    text  has_#bitcoin  \\\n",
       "0      Wohhhh is great!!!!!  \\nPls give some suvenir ...          True   \n",
       "1      Well @elonmusk made a joke about #dodgecoin an...          True   \n",
       "2      It's about inequality and unfair markets. Taxe...          True   \n",
       "3      #affiliatemarketing #affiliate #travel #touris...          True   \n",
       "4      #tumblr #twitter #gifting #facebook #instagram...          True   \n",
       "...                                                  ...           ...   \n",
       "16214  Bitcoin mined blocks distribution per pool in ...          True   \n",
       "16215  Bitcoin free space in mined blocks in last wee...          True   \n",
       "16216  Bitcoin free space in mined blocks in last day...          True   \n",
       "16217  Bitcoin mined blocks distribution per pool in ...          True   \n",
       "16218  Bitcoin mined blocks distribution per pool in ...          True   \n",
       "\n",
       "             date  \n",
       "0      2021-02-01  \n",
       "1      2021-02-01  \n",
       "2      2021-02-01  \n",
       "3      2021-02-01  \n",
       "4      2021-02-01  \n",
       "...           ...  \n",
       "16214  2021-02-28  \n",
       "16215  2021-02-28  \n",
       "16216  2021-02-28  \n",
       "16217  2021-02-28  \n",
       "16218  2021-02-28  \n",
       "\n",
       "[16219 rows x 6 columns]"
      ]
     },
     "execution_count": 84,
     "metadata": {},
     "output_type": "execute_result"
    }
   ],
   "source": [
    "test = pd.read_csv('~/Code/giadapi/crypto/data/raw/tweets_202102_reduced.csv')\n",
    "test"
   ]
  },
  {
   "cell_type": "code",
   "execution_count": 30,
   "id": "7453c0d2",
   "metadata": {},
   "outputs": [],
   "source": [
    "test = pd.read_csv('~/Code/giadapi/crypto/data/raw/tweets_202105_reduced.csv')"
   ]
  },
  {
   "cell_type": "code",
   "execution_count": 31,
   "id": "987b3564",
   "metadata": {},
   "outputs": [
    {
     "data": {
      "text/html": [
       "<div>\n",
       "<style scoped>\n",
       "    .dataframe tbody tr th:only-of-type {\n",
       "        vertical-align: middle;\n",
       "    }\n",
       "\n",
       "    .dataframe tbody tr th {\n",
       "        vertical-align: top;\n",
       "    }\n",
       "\n",
       "    .dataframe thead th {\n",
       "        text-align: right;\n",
       "    }\n",
       "</style>\n",
       "<table border=\"1\" class=\"dataframe\">\n",
       "  <thead>\n",
       "    <tr style=\"text-align: right;\">\n",
       "      <th></th>\n",
       "      <th>Unnamed: 0</th>\n",
       "      <th>datetime</th>\n",
       "      <th>username</th>\n",
       "      <th>text</th>\n",
       "      <th>has_#bitcoin</th>\n",
       "      <th>date</th>\n",
       "    </tr>\n",
       "  </thead>\n",
       "  <tbody>\n",
       "    <tr>\n",
       "      <th>6690</th>\n",
       "      <td>68375</td>\n",
       "      <td>2021-05-14 14:07:07+00:00</td>\n",
       "      <td>Titeeeb</td>\n",
       "      <td>We can do this army shiba 🏳️‍🌈🏳️‍⚧️🇺🇳🇦🇫🇿🇦🇦🇴🇦🇩🇩...</td>\n",
       "      <td>True</td>\n",
       "      <td>2021-05-14</td>\n",
       "    </tr>\n",
       "  </tbody>\n",
       "</table>\n",
       "</div>"
      ],
      "text/plain": [
       "      Unnamed: 0                   datetime username  \\\n",
       "6690       68375  2021-05-14 14:07:07+00:00  Titeeeb   \n",
       "\n",
       "                                                   text  has_#bitcoin  \\\n",
       "6690  We can do this army shiba 🏳️‍🌈🏳️‍⚧️🇺🇳🇦🇫🇿🇦🇦🇴🇦🇩🇩...          True   \n",
       "\n",
       "            date  \n",
       "6690  2021-05-14  "
      ]
     },
     "execution_count": 31,
     "metadata": {},
     "output_type": "execute_result"
    }
   ],
   "source": [
    "test[6690:6691]"
   ]
  },
  {
   "cell_type": "code",
   "execution_count": 33,
   "id": "8af605c4",
   "metadata": {},
   "outputs": [
    {
     "data": {
      "text/html": [
       "<div>\n",
       "<style scoped>\n",
       "    .dataframe tbody tr th:only-of-type {\n",
       "        vertical-align: middle;\n",
       "    }\n",
       "\n",
       "    .dataframe tbody tr th {\n",
       "        vertical-align: top;\n",
       "    }\n",
       "\n",
       "    .dataframe thead th {\n",
       "        text-align: right;\n",
       "    }\n",
       "</style>\n",
       "<table border=\"1\" class=\"dataframe\">\n",
       "  <thead>\n",
       "    <tr style=\"text-align: right;\">\n",
       "      <th></th>\n",
       "      <th>Unnamed: 0</th>\n",
       "      <th>datetime</th>\n",
       "      <th>username</th>\n",
       "      <th>text</th>\n",
       "      <th>has_#bitcoin</th>\n",
       "      <th>date</th>\n",
       "    </tr>\n",
       "  </thead>\n",
       "  <tbody>\n",
       "    <tr>\n",
       "      <th>6685</th>\n",
       "      <td>68370</td>\n",
       "      <td>2021-05-14 14:07:50+00:00</td>\n",
       "      <td>SoodiniR</td>\n",
       "      <td>Millions of people across the world living in ...</td>\n",
       "      <td>True</td>\n",
       "      <td>2021-05-14</td>\n",
       "    </tr>\n",
       "    <tr>\n",
       "      <th>6686</th>\n",
       "      <td>68371</td>\n",
       "      <td>2021-05-14 14:07:46+00:00</td>\n",
       "      <td>dotheextra</td>\n",
       "      <td>Locked in my profit from ADA ✅ #btc #bitcoin h...</td>\n",
       "      <td>True</td>\n",
       "      <td>2021-05-14</td>\n",
       "    </tr>\n",
       "    <tr>\n",
       "      <th>6687</th>\n",
       "      <td>68372</td>\n",
       "      <td>2021-05-14 14:07:36+00:00</td>\n",
       "      <td>RTANGEL11</td>\n",
       "      <td>@Yamiche The Gops attempting to use stefanik t...</td>\n",
       "      <td>True</td>\n",
       "      <td>2021-05-14</td>\n",
       "    </tr>\n",
       "    <tr>\n",
       "      <th>6688</th>\n",
       "      <td>68373</td>\n",
       "      <td>2021-05-14 14:07:31+00:00</td>\n",
       "      <td>Dark_Ages_2020</td>\n",
       "      <td>#cryptocurrency mining is swallowing up the su...</td>\n",
       "      <td>True</td>\n",
       "      <td>2021-05-14</td>\n",
       "    </tr>\n",
       "    <tr>\n",
       "      <th>6689</th>\n",
       "      <td>68374</td>\n",
       "      <td>2021-05-14 14:07:29+00:00</td>\n",
       "      <td>5Ksana</td>\n",
       "      <td>@NickyPapersNFT My cat Leo loves #bitcoin more...</td>\n",
       "      <td>True</td>\n",
       "      <td>2021-05-14</td>\n",
       "    </tr>\n",
       "    <tr>\n",
       "      <th>6691</th>\n",
       "      <td>68376</td>\n",
       "      <td>2021-05-14 14:07:02+00:00</td>\n",
       "      <td>realLooms</td>\n",
       "      <td>@defichain is a #bitcoin  fork that doesn't us...</td>\n",
       "      <td>True</td>\n",
       "      <td>2021-05-14</td>\n",
       "    </tr>\n",
       "    <tr>\n",
       "      <th>6692</th>\n",
       "      <td>68377</td>\n",
       "      <td>2021-05-14 14:06:56+00:00</td>\n",
       "      <td>terr547</td>\n",
       "      <td>@girlgone_crypto And #bitcoin still barely abo...</td>\n",
       "      <td>True</td>\n",
       "      <td>2021-05-14</td>\n",
       "    </tr>\n",
       "    <tr>\n",
       "      <th>6693</th>\n",
       "      <td>68378</td>\n",
       "      <td>2021-05-14 14:06:54+00:00</td>\n",
       "      <td>achim1235</td>\n",
       "      <td>@AltcoinDailyio Check out the one and only „De...</td>\n",
       "      <td>True</td>\n",
       "      <td>2021-05-14</td>\n",
       "    </tr>\n",
       "    <tr>\n",
       "      <th>6694</th>\n",
       "      <td>68379</td>\n",
       "      <td>2021-05-14 14:06:51+00:00</td>\n",
       "      <td>Bouillaka_CF</td>\n",
       "      <td>Do you think @elonmusk bought the dip in secre...</td>\n",
       "      <td>True</td>\n",
       "      <td>2021-05-14</td>\n",
       "    </tr>\n",
       "    <tr>\n",
       "      <th>6695</th>\n",
       "      <td>68380</td>\n",
       "      <td>2021-05-14 14:06:42+00:00</td>\n",
       "      <td>Dr_CoreyWilson</td>\n",
       "      <td>@DocumentingBTC If #Bitcoin is really so bad f...</td>\n",
       "      <td>True</td>\n",
       "      <td>2021-05-14</td>\n",
       "    </tr>\n",
       "  </tbody>\n",
       "</table>\n",
       "</div>"
      ],
      "text/plain": [
       "      Unnamed: 0                   datetime        username  \\\n",
       "6685       68370  2021-05-14 14:07:50+00:00        SoodiniR   \n",
       "6686       68371  2021-05-14 14:07:46+00:00      dotheextra   \n",
       "6687       68372  2021-05-14 14:07:36+00:00       RTANGEL11   \n",
       "6688       68373  2021-05-14 14:07:31+00:00  Dark_Ages_2020   \n",
       "6689       68374  2021-05-14 14:07:29+00:00          5Ksana   \n",
       "6691       68376  2021-05-14 14:07:02+00:00       realLooms   \n",
       "6692       68377  2021-05-14 14:06:56+00:00         terr547   \n",
       "6693       68378  2021-05-14 14:06:54+00:00       achim1235   \n",
       "6694       68379  2021-05-14 14:06:51+00:00    Bouillaka_CF   \n",
       "6695       68380  2021-05-14 14:06:42+00:00  Dr_CoreyWilson   \n",
       "\n",
       "                                                   text  has_#bitcoin  \\\n",
       "6685  Millions of people across the world living in ...          True   \n",
       "6686  Locked in my profit from ADA ✅ #btc #bitcoin h...          True   \n",
       "6687  @Yamiche The Gops attempting to use stefanik t...          True   \n",
       "6688  #cryptocurrency mining is swallowing up the su...          True   \n",
       "6689  @NickyPapersNFT My cat Leo loves #bitcoin more...          True   \n",
       "6691  @defichain is a #bitcoin  fork that doesn't us...          True   \n",
       "6692  @girlgone_crypto And #bitcoin still barely abo...          True   \n",
       "6693  @AltcoinDailyio Check out the one and only „De...          True   \n",
       "6694  Do you think @elonmusk bought the dip in secre...          True   \n",
       "6695  @DocumentingBTC If #Bitcoin is really so bad f...          True   \n",
       "\n",
       "            date  \n",
       "6685  2021-05-14  \n",
       "6686  2021-05-14  \n",
       "6687  2021-05-14  \n",
       "6688  2021-05-14  \n",
       "6689  2021-05-14  \n",
       "6691  2021-05-14  \n",
       "6692  2021-05-14  \n",
       "6693  2021-05-14  \n",
       "6694  2021-05-14  \n",
       "6695  2021-05-14  "
      ]
     },
     "execution_count": 33,
     "metadata": {},
     "output_type": "execute_result"
    }
   ],
   "source": [
    "test.drop([6690])[6685:6695]"
   ]
  },
  {
   "cell_type": "code",
   "execution_count": null,
   "id": "f4826d47",
   "metadata": {},
   "outputs": [],
   "source": []
  }
 ],
 "metadata": {
  "kernelspec": {
   "display_name": "Python 3 (ipykernel)",
   "language": "python",
   "name": "python3"
  },
  "language_info": {
   "codemirror_mode": {
    "name": "ipython",
    "version": 3
   },
   "file_extension": ".py",
   "mimetype": "text/x-python",
   "name": "python",
   "nbconvert_exporter": "python",
   "pygments_lexer": "ipython3",
   "version": "3.10.6"
  },
  "toc": {
   "base_numbering": 1,
   "nav_menu": {},
   "number_sections": true,
   "sideBar": true,
   "skip_h1_title": false,
   "title_cell": "Table of Contents",
   "title_sidebar": "Contents",
   "toc_cell": false,
   "toc_position": {},
   "toc_section_display": true,
   "toc_window_display": false
  }
 },
 "nbformat": 4,
 "nbformat_minor": 5
}
