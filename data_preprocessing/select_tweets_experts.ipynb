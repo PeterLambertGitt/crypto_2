{
 "cells": [
  {
   "cell_type": "code",
   "execution_count": 1,
   "id": "8a98ae2d",
   "metadata": {},
   "outputs": [],
   "source": [
    "import pandas as pd \n",
    "import seaborn as sns\n",
    "import numpy as np\n",
    "import matplotlib.pyplot as plt\n",
    "import matplotlib"
   ]
  },
  {
   "cell_type": "code",
   "execution_count": 2,
   "id": "6cd809cc",
   "metadata": {},
   "outputs": [
    {
     "data": {
      "text/plain": [
       "'/home/peter/code/giadapi/crypto_2/data_preprocessing'"
      ]
     },
     "execution_count": 2,
     "metadata": {},
     "output_type": "execute_result"
    }
   ],
   "source": [
    "pwd"
   ]
  },
  {
   "cell_type": "code",
   "execution_count": 4,
   "id": "3c334a89",
   "metadata": {},
   "outputs": [],
   "source": [
    "data = pd.read_csv('../data/raw_data/010121_040423_H1experts.csv', lineterminator='\\n')"
   ]
  },
  {
   "cell_type": "code",
   "execution_count": 92,
   "id": "9508c207",
   "metadata": {},
   "outputs": [
    {
     "name": "stdout",
     "output_type": "stream",
     "text": [
      "mental \n",
      "\n",
      "helth https://t.co/vlYKjQy3QG\r\n",
      "@Azmuth8 nah, the major ones wont\r\n",
      "alternative suggestion: enough is enough, just stop it\r\n",
      "when bitcoin hits 100,000 USD we all gonna have blood boys https://t.co/jk8Yr0dX9S\r\n",
      "@StunLikes at where, does pure motivation cross over with greed? I use to read every chem paperr# ever published in top ~20 journals(imo pure motivation), and crypto for me is a mix of both, i entered crypto with more greed, way less after a few month after learning more about it\r\n",
      "@crypto_degener8 $inv\n",
      "\n",
      "The pa is also garbage but higher upside\r\n",
      "@CancelledPapi @SplitCapital i'm neither korean nor a trillionaire\n",
      "i merely predict things based on market incentives\n",
      "\n",
      "based on experience in prior market cycles\n",
      "we see the same behavior in the same fractals from market makers, and market participants\r\n",
      "@CryptoWendyO Lol no but that’s a wise assumption. Just a fun question from my adhd brain.\r\n",
      "@trader1sz @CryptoNekoZ oh it’s been 2 minutes already?\r\n",
      "@MoonOverlord i dont get it a few mints(4-5) recently have run up to close to 1 eth or more\r\n",
      "I will not be buying this low effort cash grab by Hurst.  Oh, machine learning? They’ve been learning for years.  Profanity in 100 titles to make them rare?  Why the fuck would I give a fuck…\r\n",
      "@12yrold_with_cc @KeyboardMonkey3 Bro this is so good\r\n",
      "@loomdart looooom marry meeee\r\n",
      "#altcoins vs USD example \n",
      "\n",
      "$DASH example again (goes for many #majorcaps and #midcaps) \n",
      "\n",
      "If you have a favorite #influencer that told you OnlyUp before the 60% dip, why listen when he tells u to sell into support ?\n",
      "\n",
      "Just have Stop Loss below support to be safe https://t.co/7gipE6YcVc\r\n",
      "@UltraXBT I told her to stop but I still lost her\r\n",
      "appears faster than abe trade lately https://t.co/8vCFY14Lfg\r\n",
      "@CL207 I won’t have to, I’ll normalize it by hanging my pfp in my home\r\n",
      "@quangyendn @kyletorpey lol what\r\n",
      "@NorthernerWild @anbessa10o0 Awesome thanks\r\n",
      "he took a lil break\r\n"
     ]
    }
   ],
   "source": [
    "for i in data['text\\r'].sample(100):\n",
    "    print(i)"
   ]
  },
  {
   "cell_type": "code",
   "execution_count": 11,
   "id": "b7d49eae",
   "metadata": {},
   "outputs": [
    {
     "data": {
      "text/plain": [
       "282276"
      ]
     },
     "execution_count": 11,
     "metadata": {},
     "output_type": "execute_result"
    }
   ],
   "source": [
    "data['text\\r'].str.contains('the',).sum()"
   ]
  },
  {
   "cell_type": "code",
   "execution_count": 94,
   "id": "13f52783",
   "metadata": {},
   "outputs": [],
   "source": [
    "key_words = ['Market',\n",
    "'Short',\n",
    "'Foo',\n",
    "'plan',\n",
    "'Ethereum',\n",
    "'eth',\n",
    "'🚀',\n",
    "'🔥',\n",
    "'bitcoin',\n",
    "'BTC',\n",
    "'HODL',\n",
    "'collapse',\n",
    "'crypto',\n",
    "'cryptocurrency',\n",
    "'currency',\n",
    "'price',\n",
    "'USD',\n",
    "'dollar',\n",
    "'scaling',\n",
    "'scale',\n",
    "'buy',\n",
    "'sell',\n",
    "'dumped',\n",
    "'dump',\n",
    "'pump',\n",
    "'hits',\n",
    "'greed',\n",
    "'market',\n",
    "'cash',\n",
    "'OnlyUp',\n",
    "'Stop Loss'\n",
    "]\n",
    "\n",
    "key_words_search = ''\n",
    "for i in key_words:\n",
    "    key_words_search += f'{i}|'\n",
    "key_words_search = key_words_search[:-1]"
   ]
  },
  {
   "cell_type": "code",
   "execution_count": 95,
   "id": "a019fc86",
   "metadata": {},
   "outputs": [
    {
     "data": {
      "text/plain": [
       "159584"
      ]
     },
     "execution_count": 95,
     "metadata": {},
     "output_type": "execute_result"
    }
   ],
   "source": [
    "data['text\\r'].str.contains(key_words_search).sum()"
   ]
  },
  {
   "cell_type": "code",
   "execution_count": null,
   "id": "b090f1d0",
   "metadata": {},
   "outputs": [],
   "source": [
    "data= data[['datetime', 'username', 'text', 'date',\n",
    "       'negative_bert', 'neutral_bert', 'positive_bert']]"
   ]
  },
  {
   "cell_type": "code",
   "execution_count": null,
   "id": "3a6f3c11",
   "metadata": {},
   "outputs": [],
   "source": [
    "dup_tweets = data[data['text'].duplicated()]\n",
    "blacklist = []\n",
    "for name in dup_tweets['username']:\n",
    "    blacklist.append(name)\n",
    "\n",
    "blacklist = list(set(blacklist))"
   ]
  },
  {
   "cell_type": "code",
   "execution_count": null,
   "id": "daf2b143",
   "metadata": {},
   "outputs": [],
   "source": [
    "len(blacklist)"
   ]
  },
  {
   "cell_type": "code",
   "execution_count": null,
   "id": "c0b9a4aa",
   "metadata": {},
   "outputs": [],
   "source": [
    "def to_remove(x):\n",
    "    if x in blacklist:\n",
    "        return True\n",
    "    else:\n",
    "        return False"
   ]
  },
  {
   "cell_type": "code",
   "execution_count": null,
   "id": "790f5271",
   "metadata": {},
   "outputs": [],
   "source": [
    "data['to_remove'] = data['username'].apply(to_remove)"
   ]
  },
  {
   "cell_type": "code",
   "execution_count": null,
   "id": "a9bffb00",
   "metadata": {},
   "outputs": [],
   "source": [
    "mask = data['to_remove']\n",
    "data2 = data[~mask]"
   ]
  },
  {
   "cell_type": "code",
   "execution_count": null,
   "id": "dee67800",
   "metadata": {},
   "outputs": [],
   "source": [
    "data2.shape"
   ]
  },
  {
   "cell_type": "code",
   "execution_count": null,
   "id": "69376a98",
   "metadata": {},
   "outputs": [],
   "source": [
    "data2.to_csv('raw_tweets_without_dupes_120323.csv')"
   ]
  },
  {
   "cell_type": "code",
   "execution_count": null,
   "id": "31afceb1",
   "metadata": {},
   "outputs": [],
   "source": [
    "#remove users who post supiciouskly large frequency of tweets"
   ]
  }
 ],
 "metadata": {
  "kernelspec": {
   "display_name": "Python 3 (ipykernel)",
   "language": "python",
   "name": "python3"
  },
  "language_info": {
   "codemirror_mode": {
    "name": "ipython",
    "version": 3
   },
   "file_extension": ".py",
   "mimetype": "text/x-python",
   "name": "python",
   "nbconvert_exporter": "python",
   "pygments_lexer": "ipython3",
   "version": "3.10.6"
  },
  "toc": {
   "base_numbering": 1,
   "nav_menu": {},
   "number_sections": true,
   "sideBar": true,
   "skip_h1_title": false,
   "title_cell": "Table of Contents",
   "title_sidebar": "Contents",
   "toc_cell": false,
   "toc_position": {},
   "toc_section_display": true,
   "toc_window_display": false
  }
 },
 "nbformat": 4,
 "nbformat_minor": 5
}
