{
 "cells": [
  {
   "cell_type": "code",
   "execution_count": 1,
   "id": "8a98ae2d",
   "metadata": {},
   "outputs": [],
   "source": [
    "import pandas as pd \n",
    "import seaborn as sns\n",
    "import numpy as np\n",
    "import matplotlib.pyplot as plt\n",
    "import matplotlib"
   ]
  },
  {
   "cell_type": "code",
   "execution_count": 2,
   "id": "6cd809cc",
   "metadata": {},
   "outputs": [
    {
     "data": {
      "text/plain": [
       "'/home/peter/code/giadapi/crypto_2/data_preprocessing'"
      ]
     },
     "execution_count": 2,
     "metadata": {},
     "output_type": "execute_result"
    }
   ],
   "source": [
    "pwd"
   ]
  },
  {
   "cell_type": "code",
   "execution_count": 3,
   "id": "3c334a89",
   "metadata": {},
   "outputs": [],
   "source": [
    "data = pd.read_csv('../data/raw_data/010121_040423_H1experts.csv', lineterminator='\\n')"
   ]
  },
  {
   "cell_type": "code",
   "execution_count": 4,
   "id": "9a3f4042",
   "metadata": {},
   "outputs": [],
   "source": [
    "data2 = pd.read_csv('../data/raw_data/010121_040423_H2experts.csv', lineterminator='\\n')"
   ]
  },
  {
   "cell_type": "code",
   "execution_count": 5,
   "id": "be9f831e",
   "metadata": {},
   "outputs": [],
   "source": [
    "data = pd.concat([data, data2])"
   ]
  },
  {
   "cell_type": "code",
   "execution_count": 19,
   "id": "d9a6d708",
   "metadata": {},
   "outputs": [],
   "source": [
    "bitcoin_mask = data['text\\r'].str.contains('bitcoin|Bitcoin')"
   ]
  },
  {
   "cell_type": "code",
   "execution_count": 21,
   "id": "25ad434e",
   "metadata": {},
   "outputs": [],
   "source": [
    "bitcoin_tweets = data[bitcoin_mask]"
   ]
  },
  {
   "cell_type": "code",
   "execution_count": 25,
   "id": "5be4de5e",
   "metadata": {},
   "outputs": [],
   "source": [
    "def preprocess(text):\n",
    "    new_text = []\n",
    "    text = str(text)\n",
    "    text = text.replace(\"\\n\", \" \")\n",
    "    for t in text.split(\" \"):\n",
    "        t = '' if t.startswith('@') and len(t) > 1 else t\n",
    "        t = '' if t.startswith('http') else t\n",
    "        new_text.append(t)\n",
    "    return \" \".join(new_text)"
   ]
  },
  {
   "cell_type": "code",
   "execution_count": 26,
   "id": "6f46a3b8",
   "metadata": {
    "scrolled": true
   },
   "outputs": [
    {
     "name": "stderr",
     "output_type": "stream",
     "text": [
      "/tmp/ipykernel_22441/1012149435.py:1: SettingWithCopyWarning: \n",
      "A value is trying to be set on a copy of a slice from a DataFrame.\n",
      "Try using .loc[row_indexer,col_indexer] = value instead\n",
      "\n",
      "See the caveats in the documentation: https://pandas.pydata.org/pandas-docs/stable/user_guide/indexing.html#returning-a-view-versus-a-copy\n",
      "  bitcoin_tweets['preproc_text'] = bitcoin_tweets['text\\r'].apply(preprocess)\n"
     ]
    }
   ],
   "source": [
    "bitcoin_tweets['preproc_text'] = bitcoin_tweets['text\\r'].apply(preprocess)"
   ]
  },
  {
   "cell_type": "code",
   "execution_count": 28,
   "id": "4aa46f38",
   "metadata": {},
   "outputs": [
    {
     "data": {
      "text/plain": [
       "(39530, 4)"
      ]
     },
     "execution_count": 28,
     "metadata": {},
     "output_type": "execute_result"
    }
   ],
   "source": [
    "bitcoin_tweets.shape"
   ]
  },
  {
   "cell_type": "code",
   "execution_count": 31,
   "id": "863d6292",
   "metadata": {},
   "outputs": [],
   "source": [
    "bitcoin_mask2 = bitcoin_tweets['preproc_text'].str.contains('bitcoin|Bitcoin')"
   ]
  },
  {
   "cell_type": "code",
   "execution_count": 33,
   "id": "37ef26f2",
   "metadata": {},
   "outputs": [],
   "source": [
    "bitcoin_tweets = bitcoin_tweets[bitcoin_mask2]"
   ]
  },
  {
   "cell_type": "code",
   "execution_count": 35,
   "id": "c09ae189",
   "metadata": {},
   "outputs": [
    {
     "data": {
      "text/html": [
       "<div>\n",
       "<style scoped>\n",
       "    .dataframe tbody tr th:only-of-type {\n",
       "        vertical-align: middle;\n",
       "    }\n",
       "\n",
       "    .dataframe tbody tr th {\n",
       "        vertical-align: top;\n",
       "    }\n",
       "\n",
       "    .dataframe thead th {\n",
       "        text-align: right;\n",
       "    }\n",
       "</style>\n",
       "<table border=\"1\" class=\"dataframe\">\n",
       "  <thead>\n",
       "    <tr style=\"text-align: right;\">\n",
       "      <th></th>\n",
       "      <th>datetime</th>\n",
       "      <th>username</th>\n",
       "      <th>preproc_text</th>\n",
       "    </tr>\n",
       "  </thead>\n",
       "  <tbody>\n",
       "    <tr>\n",
       "      <th>0</th>\n",
       "      <td>2023-04-03 12:15:20+00:00</td>\n",
       "      <td>saylor</td>\n",
       "      <td>#Bitcoin is Digital Energy.</td>\n",
       "    </tr>\n",
       "    <tr>\n",
       "      <th>2</th>\n",
       "      <td>2023-04-02 12:59:03+00:00</td>\n",
       "      <td>saylor</td>\n",
       "      <td>The Robots will only take #Bitcoin.</td>\n",
       "    </tr>\n",
       "    <tr>\n",
       "      <th>3</th>\n",
       "      <td>2023-04-01 21:59:22+00:00</td>\n",
       "      <td>saylor</td>\n",
       "      <td>Gen Z Analyst elegantly articulates why #Bitco...</td>\n",
       "    </tr>\n",
       "    <tr>\n",
       "      <th>4</th>\n",
       "      <td>2023-04-01 16:45:59+00:00</td>\n",
       "      <td>saylor</td>\n",
       "      <td>#Bitcoin is the Superior Asset.</td>\n",
       "    </tr>\n",
       "    <tr>\n",
       "      <th>5</th>\n",
       "      <td>2023-04-01 12:40:19+00:00</td>\n",
       "      <td>saylor</td>\n",
       "      <td>Happy #Bitcoin Fools Day.</td>\n",
       "    </tr>\n",
       "    <tr>\n",
       "      <th>...</th>\n",
       "      <td>...</td>\n",
       "      <td>...</td>\n",
       "      <td>...</td>\n",
       "    </tr>\n",
       "    <tr>\n",
       "      <th>522702</th>\n",
       "      <td>2021-04-30 03:56:27+00:00</td>\n",
       "      <td>RektProof</td>\n",
       "      <td>$BTC / $USD  2 Different ranges here LTF/HTF  ...</td>\n",
       "    </tr>\n",
       "    <tr>\n",
       "      <th>522707</th>\n",
       "      <td>2021-04-26 15:03:52+00:00</td>\n",
       "      <td>RektProof</td>\n",
       "      <td>Pretty good start to the year overall.  30R in...</td>\n",
       "    </tr>\n",
       "    <tr>\n",
       "      <th>522713</th>\n",
       "      <td>2021-04-24 06:23:55+00:00</td>\n",
       "      <td>RektProof</td>\n",
       "      <td>Power of 3  Another Round?  Old low broken and...</td>\n",
       "    </tr>\n",
       "    <tr>\n",
       "      <th>522719</th>\n",
       "      <td>2021-04-19 15:48:27+00:00</td>\n",
       "      <td>RektProof</td>\n",
       "      <td>$BTC / $USD  Looking for a move into 60-62k th...</td>\n",
       "    </tr>\n",
       "    <tr>\n",
       "      <th>522840</th>\n",
       "      <td>2021-02-10 19:29:23+00:00</td>\n",
       "      <td>RektProof</td>\n",
       "      <td>#BTC is now in the Top 15 world fiat currencie...</td>\n",
       "    </tr>\n",
       "  </tbody>\n",
       "</table>\n",
       "<p>27455 rows × 3 columns</p>\n",
       "</div>"
      ],
      "text/plain": [
       "                         datetime   username  \\\n",
       "0       2023-04-03 12:15:20+00:00     saylor   \n",
       "2       2023-04-02 12:59:03+00:00     saylor   \n",
       "3       2023-04-01 21:59:22+00:00     saylor   \n",
       "4       2023-04-01 16:45:59+00:00     saylor   \n",
       "5       2023-04-01 12:40:19+00:00     saylor   \n",
       "...                           ...        ...   \n",
       "522702  2021-04-30 03:56:27+00:00  RektProof   \n",
       "522707  2021-04-26 15:03:52+00:00  RektProof   \n",
       "522713  2021-04-24 06:23:55+00:00  RektProof   \n",
       "522719  2021-04-19 15:48:27+00:00  RektProof   \n",
       "522840  2021-02-10 19:29:23+00:00  RektProof   \n",
       "\n",
       "                                             preproc_text  \n",
       "0                            #Bitcoin is Digital Energy.   \n",
       "2                    The Robots will only take #Bitcoin.   \n",
       "3       Gen Z Analyst elegantly articulates why #Bitco...  \n",
       "4                        #Bitcoin is the Superior Asset.   \n",
       "5                              Happy #Bitcoin Fools Day.   \n",
       "...                                                   ...  \n",
       "522702  $BTC / $USD  2 Different ranges here LTF/HTF  ...  \n",
       "522707  Pretty good start to the year overall.  30R in...  \n",
       "522713  Power of 3  Another Round?  Old low broken and...  \n",
       "522719  $BTC / $USD  Looking for a move into 60-62k th...  \n",
       "522840  #BTC is now in the Top 15 world fiat currencie...  \n",
       "\n",
       "[27455 rows x 3 columns]"
      ]
     },
     "execution_count": 35,
     "metadata": {},
     "output_type": "execute_result"
    }
   ],
   "source": [
    "bitcoin_tweets.drop(columns = 'text\\r')"
   ]
  },
  {
   "cell_type": "code",
   "execution_count": 68,
   "id": "93f72cc1",
   "metadata": {},
   "outputs": [],
   "source": [
    "data_2 = pd.DataFrame(bitcoin_tweets['username'].value_counts()).reset_index()"
   ]
  },
  {
   "cell_type": "code",
   "execution_count": 71,
   "id": "a29f4aa2",
   "metadata": {},
   "outputs": [],
   "source": [
    "data_2.rename(columns = {'index':'usernames', 'username':'tweet_count'}, inplace = True)"
   ]
  },
  {
   "cell_type": "code",
   "execution_count": 72,
   "id": "c2f1ba9f",
   "metadata": {},
   "outputs": [
    {
     "data": {
      "text/html": [
       "<div>\n",
       "<style scoped>\n",
       "    .dataframe tbody tr th:only-of-type {\n",
       "        vertical-align: middle;\n",
       "    }\n",
       "\n",
       "    .dataframe tbody tr th {\n",
       "        vertical-align: top;\n",
       "    }\n",
       "\n",
       "    .dataframe thead th {\n",
       "        text-align: right;\n",
       "    }\n",
       "</style>\n",
       "<table border=\"1\" class=\"dataframe\">\n",
       "  <thead>\n",
       "    <tr style=\"text-align: right;\">\n",
       "      <th></th>\n",
       "      <th>usernames</th>\n",
       "      <th>tweet_count</th>\n",
       "    </tr>\n",
       "  </thead>\n",
       "  <tbody>\n",
       "    <tr>\n",
       "      <th>0</th>\n",
       "      <td>udiWertheimer</td>\n",
       "      <td>3987</td>\n",
       "    </tr>\n",
       "    <tr>\n",
       "      <th>1</th>\n",
       "      <td>PeterMcCormack</td>\n",
       "      <td>2453</td>\n",
       "    </tr>\n",
       "    <tr>\n",
       "      <th>2</th>\n",
       "      <td>saylor</td>\n",
       "      <td>1988</td>\n",
       "    </tr>\n",
       "    <tr>\n",
       "      <th>3</th>\n",
       "      <td>scottmelker</td>\n",
       "      <td>1978</td>\n",
       "    </tr>\n",
       "    <tr>\n",
       "      <th>4</th>\n",
       "      <td>CryptoKaleo</td>\n",
       "      <td>1249</td>\n",
       "    </tr>\n",
       "    <tr>\n",
       "      <th>...</th>\n",
       "      <td>...</td>\n",
       "      <td>...</td>\n",
       "    </tr>\n",
       "    <tr>\n",
       "      <th>91</th>\n",
       "      <td>cubantobacco</td>\n",
       "      <td>4</td>\n",
       "    </tr>\n",
       "    <tr>\n",
       "      <th>92</th>\n",
       "      <td>Vince_Van_Dough</td>\n",
       "      <td>4</td>\n",
       "    </tr>\n",
       "    <tr>\n",
       "      <th>93</th>\n",
       "      <td>fishxbt</td>\n",
       "      <td>2</td>\n",
       "    </tr>\n",
       "    <tr>\n",
       "      <th>94</th>\n",
       "      <td>IamCryptoWolf</td>\n",
       "      <td>2</td>\n",
       "    </tr>\n",
       "    <tr>\n",
       "      <th>95</th>\n",
       "      <td>DeeZe</td>\n",
       "      <td>1</td>\n",
       "    </tr>\n",
       "  </tbody>\n",
       "</table>\n",
       "<p>96 rows × 2 columns</p>\n",
       "</div>"
      ],
      "text/plain": [
       "          usernames  tweet_count\n",
       "0     udiWertheimer         3987\n",
       "1    PeterMcCormack         2453\n",
       "2            saylor         1988\n",
       "3       scottmelker         1978\n",
       "4       CryptoKaleo         1249\n",
       "..              ...          ...\n",
       "91     cubantobacco            4\n",
       "92  Vince_Van_Dough            4\n",
       "93          fishxbt            2\n",
       "94    IamCryptoWolf            2\n",
       "95            DeeZe            1\n",
       "\n",
       "[96 rows x 2 columns]"
      ]
     },
     "execution_count": 72,
     "metadata": {},
     "output_type": "execute_result"
    }
   ],
   "source": [
    "data_2"
   ]
  },
  {
   "cell_type": "code",
   "execution_count": 76,
   "id": "1f54bc70",
   "metadata": {},
   "outputs": [
    {
     "data": {
      "text/plain": [
       "(27455, 4)"
      ]
     },
     "execution_count": 76,
     "metadata": {},
     "output_type": "execute_result"
    }
   ],
   "source": [
    "bitcoin_tweets.shape"
   ]
  },
  {
   "cell_type": "code",
   "execution_count": 94,
   "id": "13f52783",
   "metadata": {},
   "outputs": [],
   "source": [
    "key_words = ['Market',\n",
    "'Short',\n",
    "'Foo',\n",
    "'plan',\n",
    "'Ethereum',\n",
    "'eth',\n",
    "'🚀',\n",
    "'🔥',\n",
    "'bitcoin',\n",
    "'BTC',\n",
    "'HODL',\n",
    "'collapse',\n",
    "'crypto',\n",
    "'cryptocurrency',\n",
    "'currency',\n",
    "'price',\n",
    "'USD',\n",
    "'dollar',\n",
    "'scaling',\n",
    "'scale',\n",
    "'buy',\n",
    "'sell',\n",
    "'dumped',\n",
    "'dump',\n",
    "'pump',\n",
    "'hits',\n",
    "'greed',\n",
    "'market',\n",
    "'cash',\n",
    "'OnlyUp',\n",
    "'Stop Loss'\n",
    "]\n",
    "\n",
    "key_words_search = ''\n",
    "for i in key_words:\n",
    "    key_words_search += f'{i}|'\n",
    "key_words_search = key_words_search[:-1]"
   ]
  },
  {
   "cell_type": "code",
   "execution_count": 95,
   "id": "a019fc86",
   "metadata": {},
   "outputs": [
    {
     "data": {
      "text/plain": [
       "159584"
      ]
     },
     "execution_count": 95,
     "metadata": {},
     "output_type": "execute_result"
    }
   ],
   "source": [
    "data['text\\r'].str.contains(key_words_search).sum()"
   ]
  },
  {
   "cell_type": "code",
   "execution_count": null,
   "id": "b090f1d0",
   "metadata": {},
   "outputs": [],
   "source": [
    "data= data[['datetime', 'username', 'text', 'date',\n",
    "       'negative_bert', 'neutral_bert', 'positive_bert']]"
   ]
  },
  {
   "cell_type": "code",
   "execution_count": null,
   "id": "3a6f3c11",
   "metadata": {},
   "outputs": [],
   "source": [
    "dup_tweets = data[data['text'].duplicated()]\n",
    "blacklist = []\n",
    "for name in dup_tweets['username']:\n",
    "    blacklist.append(name)\n",
    "\n",
    "blacklist = list(set(blacklist))"
   ]
  },
  {
   "cell_type": "code",
   "execution_count": null,
   "id": "daf2b143",
   "metadata": {},
   "outputs": [],
   "source": [
    "len(blacklist)"
   ]
  },
  {
   "cell_type": "code",
   "execution_count": null,
   "id": "c0b9a4aa",
   "metadata": {},
   "outputs": [],
   "source": [
    "def to_remove(x):\n",
    "    if x in blacklist:\n",
    "        return True\n",
    "    else:\n",
    "        return False"
   ]
  },
  {
   "cell_type": "code",
   "execution_count": null,
   "id": "790f5271",
   "metadata": {},
   "outputs": [],
   "source": [
    "data['to_remove'] = data['username'].apply(to_remove)"
   ]
  },
  {
   "cell_type": "code",
   "execution_count": null,
   "id": "a9bffb00",
   "metadata": {},
   "outputs": [],
   "source": [
    "mask = data['to_remove']\n",
    "data2 = data[~mask]"
   ]
  },
  {
   "cell_type": "code",
   "execution_count": null,
   "id": "dee67800",
   "metadata": {},
   "outputs": [],
   "source": [
    "data2.shape"
   ]
  },
  {
   "cell_type": "code",
   "execution_count": 77,
   "id": "69376a98",
   "metadata": {},
   "outputs": [],
   "source": [
    "bitcoin_tweets.to_csv('expert_bitcoin_tweets.csv')"
   ]
  },
  {
   "cell_type": "code",
   "execution_count": null,
   "id": "31afceb1",
   "metadata": {},
   "outputs": [],
   "source": [
    "#remove users who post supiciouskly large frequency of tweets"
   ]
  }
 ],
 "metadata": {
  "kernelspec": {
   "display_name": "Python 3 (ipykernel)",
   "language": "python",
   "name": "python3"
  },
  "language_info": {
   "codemirror_mode": {
    "name": "ipython",
    "version": 3
   },
   "file_extension": ".py",
   "mimetype": "text/x-python",
   "name": "python",
   "nbconvert_exporter": "python",
   "pygments_lexer": "ipython3",
   "version": "3.10.6"
  },
  "toc": {
   "base_numbering": 1,
   "nav_menu": {},
   "number_sections": true,
   "sideBar": true,
   "skip_h1_title": false,
   "title_cell": "Table of Contents",
   "title_sidebar": "Contents",
   "toc_cell": false,
   "toc_position": {},
   "toc_section_display": true,
   "toc_window_display": false
  }
 },
 "nbformat": 4,
 "nbformat_minor": 5
}
